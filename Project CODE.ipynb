{
 "cells": [
  {
   "cell_type": "markdown",
   "id": "e9b783f6",
   "metadata": {},
   "source": [
    "# Melbourn House Price Predition Model\n",
    "- created by :\n",
    "    - **Student of COEP technological University, PUNE**\n",
    "        1. 732392024 -- AKSHAY GIDDE\n"
   ]
  },
  {
   "cell_type": "markdown",
   "id": "1a9c4799",
   "metadata": {},
   "source": [
    "### Importing Necessory Libraries"
   ]
  },
  {
   "cell_type": "code",
   "execution_count": 1,
   "id": "a86ce973",
   "metadata": {},
   "outputs": [],
   "source": [
    "import pandas as pd\n",
    "import numpy as np\n",
    "\n",
    "import matplotlib.pyplot as plt\n",
    "import seaborn as sns\n",
    "\n",
    "%matplotlib inline      \n",
    "#Magic command -- no need to use plt.show() for every graph\n",
    "\n",
    "\n",
    "#for ignoring warning.\n",
    "import warnings\n",
    "# Ignore specific UserWarning\n",
    "warnings.filterwarnings(\"ignore\", message=\"The figure layout has changed to tight\")"
   ]
  },
  {
   "cell_type": "markdown",
   "id": "d6a64f66",
   "metadata": {},
   "source": [
    "### Read csv data file and storing it in df"
   ]
  },
  {
   "cell_type": "code",
   "execution_count": 2,
   "id": "5db73b0a",
   "metadata": {},
   "outputs": [],
   "source": [
    "df = pd.read_csv('melb_data.csv')"
   ]
  },
  {
   "cell_type": "markdown",
   "id": "28648f60",
   "metadata": {},
   "source": [
    "- Let's check the shape of our datasets ( number of rows, number of columns/features )"
   ]
  },
  {
   "cell_type": "code",
   "execution_count": 3,
   "id": "bce3ef54",
   "metadata": {},
   "outputs": [
    {
     "data": {
      "text/plain": [
       "(13580, 21)"
      ]
     },
     "execution_count": 3,
     "metadata": {},
     "output_type": "execute_result"
    }
   ],
   "source": [
    "df.shape"
   ]
  },
  {
   "cell_type": "markdown",
   "id": "ee67bc01",
   "metadata": {},
   "source": [
    "# Understanding the data"
   ]
  },
  {
   "cell_type": "code",
   "execution_count": 4,
   "id": "16ce39c6",
   "metadata": {
    "scrolled": false
   },
   "outputs": [
    {
     "data": {
      "text/html": [
       "<div>\n",
       "<style scoped>\n",
       "    .dataframe tbody tr th:only-of-type {\n",
       "        vertical-align: middle;\n",
       "    }\n",
       "\n",
       "    .dataframe tbody tr th {\n",
       "        vertical-align: top;\n",
       "    }\n",
       "\n",
       "    .dataframe thead th {\n",
       "        text-align: right;\n",
       "    }\n",
       "</style>\n",
       "<table border=\"1\" class=\"dataframe\">\n",
       "  <thead>\n",
       "    <tr style=\"text-align: right;\">\n",
       "      <th></th>\n",
       "      <th>Suburb</th>\n",
       "      <th>Address</th>\n",
       "      <th>Rooms</th>\n",
       "      <th>Type</th>\n",
       "      <th>Price</th>\n",
       "      <th>Method</th>\n",
       "      <th>SellerG</th>\n",
       "      <th>Date</th>\n",
       "      <th>Distance</th>\n",
       "      <th>Postcode</th>\n",
       "      <th>...</th>\n",
       "      <th>Bathroom</th>\n",
       "      <th>Car</th>\n",
       "      <th>Landsize</th>\n",
       "      <th>BuildingArea</th>\n",
       "      <th>YearBuilt</th>\n",
       "      <th>CouncilArea</th>\n",
       "      <th>Lattitude</th>\n",
       "      <th>Longtitude</th>\n",
       "      <th>Regionname</th>\n",
       "      <th>Propertycount</th>\n",
       "    </tr>\n",
       "  </thead>\n",
       "  <tbody>\n",
       "    <tr>\n",
       "      <th>0</th>\n",
       "      <td>Abbotsford</td>\n",
       "      <td>85 Turner St</td>\n",
       "      <td>2</td>\n",
       "      <td>h</td>\n",
       "      <td>1480000</td>\n",
       "      <td>S</td>\n",
       "      <td>Biggin</td>\n",
       "      <td>03/12/16</td>\n",
       "      <td>2.5</td>\n",
       "      <td>3067</td>\n",
       "      <td>...</td>\n",
       "      <td>1</td>\n",
       "      <td>1.0</td>\n",
       "      <td>202</td>\n",
       "      <td>NaN</td>\n",
       "      <td>NaN</td>\n",
       "      <td>Yarra</td>\n",
       "      <td>-37.79960</td>\n",
       "      <td>144.99840</td>\n",
       "      <td>Northern Metropolitan</td>\n",
       "      <td>4019</td>\n",
       "    </tr>\n",
       "    <tr>\n",
       "      <th>1</th>\n",
       "      <td>Abbotsford</td>\n",
       "      <td>25 Bloomburg St</td>\n",
       "      <td>2</td>\n",
       "      <td>h</td>\n",
       "      <td>1035000</td>\n",
       "      <td>S</td>\n",
       "      <td>Biggin</td>\n",
       "      <td>04/02/16</td>\n",
       "      <td>2.5</td>\n",
       "      <td>3067</td>\n",
       "      <td>...</td>\n",
       "      <td>1</td>\n",
       "      <td>0.0</td>\n",
       "      <td>156</td>\n",
       "      <td>79.0</td>\n",
       "      <td>1900.0</td>\n",
       "      <td>Yarra</td>\n",
       "      <td>-37.80790</td>\n",
       "      <td>144.99340</td>\n",
       "      <td>Northern Metropolitan</td>\n",
       "      <td>4019</td>\n",
       "    </tr>\n",
       "    <tr>\n",
       "      <th>2</th>\n",
       "      <td>Abbotsford</td>\n",
       "      <td>5 Charles St</td>\n",
       "      <td>3</td>\n",
       "      <td>h</td>\n",
       "      <td>1465000</td>\n",
       "      <td>SP</td>\n",
       "      <td>Biggin</td>\n",
       "      <td>04/03/17</td>\n",
       "      <td>2.5</td>\n",
       "      <td>3067</td>\n",
       "      <td>...</td>\n",
       "      <td>2</td>\n",
       "      <td>0.0</td>\n",
       "      <td>134</td>\n",
       "      <td>150.0</td>\n",
       "      <td>1900.0</td>\n",
       "      <td>Yarra</td>\n",
       "      <td>-37.80930</td>\n",
       "      <td>144.99440</td>\n",
       "      <td>Northern Metropolitan</td>\n",
       "      <td>4019</td>\n",
       "    </tr>\n",
       "    <tr>\n",
       "      <th>3</th>\n",
       "      <td>Abbotsford</td>\n",
       "      <td>40 Federation La</td>\n",
       "      <td>3</td>\n",
       "      <td>h</td>\n",
       "      <td>850000</td>\n",
       "      <td>PI</td>\n",
       "      <td>Biggin</td>\n",
       "      <td>04/03/17</td>\n",
       "      <td>2.5</td>\n",
       "      <td>3067</td>\n",
       "      <td>...</td>\n",
       "      <td>2</td>\n",
       "      <td>1.0</td>\n",
       "      <td>94</td>\n",
       "      <td>NaN</td>\n",
       "      <td>NaN</td>\n",
       "      <td>Yarra</td>\n",
       "      <td>-37.79690</td>\n",
       "      <td>144.99690</td>\n",
       "      <td>Northern Metropolitan</td>\n",
       "      <td>4019</td>\n",
       "    </tr>\n",
       "    <tr>\n",
       "      <th>4</th>\n",
       "      <td>Abbotsford</td>\n",
       "      <td>55a Park St</td>\n",
       "      <td>4</td>\n",
       "      <td>h</td>\n",
       "      <td>1600000</td>\n",
       "      <td>VB</td>\n",
       "      <td>Nelson</td>\n",
       "      <td>04/06/16</td>\n",
       "      <td>2.5</td>\n",
       "      <td>3067</td>\n",
       "      <td>...</td>\n",
       "      <td>1</td>\n",
       "      <td>2.0</td>\n",
       "      <td>120</td>\n",
       "      <td>142.0</td>\n",
       "      <td>2014.0</td>\n",
       "      <td>Yarra</td>\n",
       "      <td>-37.80720</td>\n",
       "      <td>144.99410</td>\n",
       "      <td>Northern Metropolitan</td>\n",
       "      <td>4019</td>\n",
       "    </tr>\n",
       "    <tr>\n",
       "      <th>...</th>\n",
       "      <td>...</td>\n",
       "      <td>...</td>\n",
       "      <td>...</td>\n",
       "      <td>...</td>\n",
       "      <td>...</td>\n",
       "      <td>...</td>\n",
       "      <td>...</td>\n",
       "      <td>...</td>\n",
       "      <td>...</td>\n",
       "      <td>...</td>\n",
       "      <td>...</td>\n",
       "      <td>...</td>\n",
       "      <td>...</td>\n",
       "      <td>...</td>\n",
       "      <td>...</td>\n",
       "      <td>...</td>\n",
       "      <td>...</td>\n",
       "      <td>...</td>\n",
       "      <td>...</td>\n",
       "      <td>...</td>\n",
       "      <td>...</td>\n",
       "    </tr>\n",
       "    <tr>\n",
       "      <th>13575</th>\n",
       "      <td>Wheelers Hill</td>\n",
       "      <td>12 Strada Cr</td>\n",
       "      <td>4</td>\n",
       "      <td>h</td>\n",
       "      <td>1245000</td>\n",
       "      <td>S</td>\n",
       "      <td>Barry</td>\n",
       "      <td>26/08/17</td>\n",
       "      <td>16.7</td>\n",
       "      <td>3150</td>\n",
       "      <td>...</td>\n",
       "      <td>2</td>\n",
       "      <td>2.0</td>\n",
       "      <td>652</td>\n",
       "      <td>NaN</td>\n",
       "      <td>1981.0</td>\n",
       "      <td>NaN</td>\n",
       "      <td>-37.90562</td>\n",
       "      <td>145.16761</td>\n",
       "      <td>South-Eastern Metropolitan</td>\n",
       "      <td>7392</td>\n",
       "    </tr>\n",
       "    <tr>\n",
       "      <th>13576</th>\n",
       "      <td>Williamstown</td>\n",
       "      <td>77 Merrett Dr</td>\n",
       "      <td>3</td>\n",
       "      <td>h</td>\n",
       "      <td>1031000</td>\n",
       "      <td>SP</td>\n",
       "      <td>Williams</td>\n",
       "      <td>26/08/17</td>\n",
       "      <td>6.8</td>\n",
       "      <td>3016</td>\n",
       "      <td>...</td>\n",
       "      <td>2</td>\n",
       "      <td>2.0</td>\n",
       "      <td>333</td>\n",
       "      <td>133.0</td>\n",
       "      <td>1995.0</td>\n",
       "      <td>NaN</td>\n",
       "      <td>-37.85927</td>\n",
       "      <td>144.87904</td>\n",
       "      <td>Western Metropolitan</td>\n",
       "      <td>6380</td>\n",
       "    </tr>\n",
       "    <tr>\n",
       "      <th>13577</th>\n",
       "      <td>Williamstown</td>\n",
       "      <td>83 Power St</td>\n",
       "      <td>3</td>\n",
       "      <td>h</td>\n",
       "      <td>1170000</td>\n",
       "      <td>S</td>\n",
       "      <td>Raine</td>\n",
       "      <td>26/08/17</td>\n",
       "      <td>6.8</td>\n",
       "      <td>3016</td>\n",
       "      <td>...</td>\n",
       "      <td>2</td>\n",
       "      <td>4.0</td>\n",
       "      <td>436</td>\n",
       "      <td>NaN</td>\n",
       "      <td>1997.0</td>\n",
       "      <td>NaN</td>\n",
       "      <td>-37.85274</td>\n",
       "      <td>144.88738</td>\n",
       "      <td>Western Metropolitan</td>\n",
       "      <td>6380</td>\n",
       "    </tr>\n",
       "    <tr>\n",
       "      <th>13578</th>\n",
       "      <td>Williamstown</td>\n",
       "      <td>96 Verdon St</td>\n",
       "      <td>4</td>\n",
       "      <td>h</td>\n",
       "      <td>2500000</td>\n",
       "      <td>PI</td>\n",
       "      <td>Sweeney</td>\n",
       "      <td>26/08/17</td>\n",
       "      <td>6.8</td>\n",
       "      <td>3016</td>\n",
       "      <td>...</td>\n",
       "      <td>1</td>\n",
       "      <td>5.0</td>\n",
       "      <td>866</td>\n",
       "      <td>157.0</td>\n",
       "      <td>1920.0</td>\n",
       "      <td>NaN</td>\n",
       "      <td>-37.85908</td>\n",
       "      <td>144.89299</td>\n",
       "      <td>Western Metropolitan</td>\n",
       "      <td>6380</td>\n",
       "    </tr>\n",
       "    <tr>\n",
       "      <th>13579</th>\n",
       "      <td>Yarraville</td>\n",
       "      <td>6 Agnes St</td>\n",
       "      <td>4</td>\n",
       "      <td>h</td>\n",
       "      <td>1285000</td>\n",
       "      <td>SP</td>\n",
       "      <td>Village</td>\n",
       "      <td>26/08/17</td>\n",
       "      <td>6.3</td>\n",
       "      <td>3013</td>\n",
       "      <td>...</td>\n",
       "      <td>1</td>\n",
       "      <td>1.0</td>\n",
       "      <td>362</td>\n",
       "      <td>112.0</td>\n",
       "      <td>1920.0</td>\n",
       "      <td>NaN</td>\n",
       "      <td>-37.81188</td>\n",
       "      <td>144.88449</td>\n",
       "      <td>Western Metropolitan</td>\n",
       "      <td>6543</td>\n",
       "    </tr>\n",
       "  </tbody>\n",
       "</table>\n",
       "<p>13580 rows × 21 columns</p>\n",
       "</div>"
      ],
      "text/plain": [
       "              Suburb           Address  Rooms Type    Price Method   SellerG  \\\n",
       "0         Abbotsford      85 Turner St      2    h  1480000      S    Biggin   \n",
       "1         Abbotsford   25 Bloomburg St      2    h  1035000      S    Biggin   \n",
       "2         Abbotsford      5 Charles St      3    h  1465000     SP    Biggin   \n",
       "3         Abbotsford  40 Federation La      3    h   850000     PI    Biggin   \n",
       "4         Abbotsford       55a Park St      4    h  1600000     VB    Nelson   \n",
       "...              ...               ...    ...  ...      ...    ...       ...   \n",
       "13575  Wheelers Hill      12 Strada Cr      4    h  1245000      S     Barry   \n",
       "13576   Williamstown     77 Merrett Dr      3    h  1031000     SP  Williams   \n",
       "13577   Williamstown       83 Power St      3    h  1170000      S     Raine   \n",
       "13578   Williamstown      96 Verdon St      4    h  2500000     PI   Sweeney   \n",
       "13579     Yarraville        6 Agnes St      4    h  1285000     SP   Village   \n",
       "\n",
       "           Date  Distance  Postcode  ...  Bathroom  Car  Landsize  \\\n",
       "0      03/12/16       2.5      3067  ...         1  1.0       202   \n",
       "1      04/02/16       2.5      3067  ...         1  0.0       156   \n",
       "2      04/03/17       2.5      3067  ...         2  0.0       134   \n",
       "3      04/03/17       2.5      3067  ...         2  1.0        94   \n",
       "4      04/06/16       2.5      3067  ...         1  2.0       120   \n",
       "...         ...       ...       ...  ...       ...  ...       ...   \n",
       "13575  26/08/17      16.7      3150  ...         2  2.0       652   \n",
       "13576  26/08/17       6.8      3016  ...         2  2.0       333   \n",
       "13577  26/08/17       6.8      3016  ...         2  4.0       436   \n",
       "13578  26/08/17       6.8      3016  ...         1  5.0       866   \n",
       "13579  26/08/17       6.3      3013  ...         1  1.0       362   \n",
       "\n",
       "       BuildingArea  YearBuilt  CouncilArea Lattitude  Longtitude  \\\n",
       "0               NaN        NaN        Yarra -37.79960   144.99840   \n",
       "1              79.0     1900.0        Yarra -37.80790   144.99340   \n",
       "2             150.0     1900.0        Yarra -37.80930   144.99440   \n",
       "3               NaN        NaN        Yarra -37.79690   144.99690   \n",
       "4             142.0     2014.0        Yarra -37.80720   144.99410   \n",
       "...             ...        ...          ...       ...         ...   \n",
       "13575           NaN     1981.0          NaN -37.90562   145.16761   \n",
       "13576         133.0     1995.0          NaN -37.85927   144.87904   \n",
       "13577           NaN     1997.0          NaN -37.85274   144.88738   \n",
       "13578         157.0     1920.0          NaN -37.85908   144.89299   \n",
       "13579         112.0     1920.0          NaN -37.81188   144.88449   \n",
       "\n",
       "                       Regionname Propertycount  \n",
       "0           Northern Metropolitan          4019  \n",
       "1           Northern Metropolitan          4019  \n",
       "2           Northern Metropolitan          4019  \n",
       "3           Northern Metropolitan          4019  \n",
       "4           Northern Metropolitan          4019  \n",
       "...                           ...           ...  \n",
       "13575  South-Eastern Metropolitan          7392  \n",
       "13576        Western Metropolitan          6380  \n",
       "13577        Western Metropolitan          6380  \n",
       "13578        Western Metropolitan          6380  \n",
       "13579        Western Metropolitan          6543  \n",
       "\n",
       "[13580 rows x 21 columns]"
      ]
     },
     "execution_count": 4,
     "metadata": {},
     "output_type": "execute_result"
    }
   ],
   "source": [
    "#returning random 5 rows to get to know the data\n",
    "df"
   ]
  },
  {
   "cell_type": "markdown",
   "id": "c41f3ab6",
   "metadata": {},
   "source": [
    "### Understanding each column\n",
    "1. Rooms: Number of rooms\n",
    "\n",
    "2. Price: Price in dollars\n",
    "\n",
    "3. Method: S - property sold; SP - property sold prior; PI - property passed in; VB - vendor bid; SA - sold after auction.\n",
    "\n",
    "4. Type: h - house,cottage,villa, semi,terrace; \n",
    "         u - unit, duplex; \n",
    "         t - townhouse; dev site - development site.\n",
    "\n",
    "5. SellerG: Real Estate Agent\n",
    "\n",
    "6. Date: Date sold\n",
    "\n",
    "7. Distance: Distance from CBD\n",
    "\n",
    "8. Regionname: General Region (West, North West, North, North east …etc)\n",
    "\n",
    "9. Propertycount: Number of properties that exist in the suburb.\n",
    "\n",
    "10. Bedroom2 : Scraped # of Bedrooms (from different source)\n",
    "\n",
    "11. Bathroom: Number of Bathrooms\n",
    "\n",
    "12. Car: Number of carspots\n",
    "\n",
    "13. Landsize: Land Size\n",
    "\n",
    "14. BuildingArea: Building Size\n",
    "\n",
    "15. CouncilArea: Governing council for the area"
   ]
  },
  {
   "cell_type": "markdown",
   "id": "d441b9c5",
   "metadata": {},
   "source": [
    "# EDA - Exploratory Data Analysis"
   ]
  },
  {
   "cell_type": "markdown",
   "id": "ddee648e",
   "metadata": {},
   "source": [
    "- cheecking 1st 5 rows of df"
   ]
  },
  {
   "cell_type": "code",
   "execution_count": 5,
   "id": "76c6484f",
   "metadata": {},
   "outputs": [
    {
     "data": {
      "text/html": [
       "<div>\n",
       "<style scoped>\n",
       "    .dataframe tbody tr th:only-of-type {\n",
       "        vertical-align: middle;\n",
       "    }\n",
       "\n",
       "    .dataframe tbody tr th {\n",
       "        vertical-align: top;\n",
       "    }\n",
       "\n",
       "    .dataframe thead th {\n",
       "        text-align: right;\n",
       "    }\n",
       "</style>\n",
       "<table border=\"1\" class=\"dataframe\">\n",
       "  <thead>\n",
       "    <tr style=\"text-align: right;\">\n",
       "      <th></th>\n",
       "      <th>Suburb</th>\n",
       "      <th>Address</th>\n",
       "      <th>Rooms</th>\n",
       "      <th>Type</th>\n",
       "      <th>Price</th>\n",
       "      <th>Method</th>\n",
       "      <th>SellerG</th>\n",
       "      <th>Date</th>\n",
       "      <th>Distance</th>\n",
       "      <th>Postcode</th>\n",
       "      <th>...</th>\n",
       "      <th>Bathroom</th>\n",
       "      <th>Car</th>\n",
       "      <th>Landsize</th>\n",
       "      <th>BuildingArea</th>\n",
       "      <th>YearBuilt</th>\n",
       "      <th>CouncilArea</th>\n",
       "      <th>Lattitude</th>\n",
       "      <th>Longtitude</th>\n",
       "      <th>Regionname</th>\n",
       "      <th>Propertycount</th>\n",
       "    </tr>\n",
       "  </thead>\n",
       "  <tbody>\n",
       "    <tr>\n",
       "      <th>0</th>\n",
       "      <td>Abbotsford</td>\n",
       "      <td>85 Turner St</td>\n",
       "      <td>2</td>\n",
       "      <td>h</td>\n",
       "      <td>1480000</td>\n",
       "      <td>S</td>\n",
       "      <td>Biggin</td>\n",
       "      <td>03/12/16</td>\n",
       "      <td>2.5</td>\n",
       "      <td>3067</td>\n",
       "      <td>...</td>\n",
       "      <td>1</td>\n",
       "      <td>1.0</td>\n",
       "      <td>202</td>\n",
       "      <td>NaN</td>\n",
       "      <td>NaN</td>\n",
       "      <td>Yarra</td>\n",
       "      <td>-37.7996</td>\n",
       "      <td>144.9984</td>\n",
       "      <td>Northern Metropolitan</td>\n",
       "      <td>4019</td>\n",
       "    </tr>\n",
       "    <tr>\n",
       "      <th>1</th>\n",
       "      <td>Abbotsford</td>\n",
       "      <td>25 Bloomburg St</td>\n",
       "      <td>2</td>\n",
       "      <td>h</td>\n",
       "      <td>1035000</td>\n",
       "      <td>S</td>\n",
       "      <td>Biggin</td>\n",
       "      <td>04/02/16</td>\n",
       "      <td>2.5</td>\n",
       "      <td>3067</td>\n",
       "      <td>...</td>\n",
       "      <td>1</td>\n",
       "      <td>0.0</td>\n",
       "      <td>156</td>\n",
       "      <td>79.0</td>\n",
       "      <td>1900.0</td>\n",
       "      <td>Yarra</td>\n",
       "      <td>-37.8079</td>\n",
       "      <td>144.9934</td>\n",
       "      <td>Northern Metropolitan</td>\n",
       "      <td>4019</td>\n",
       "    </tr>\n",
       "    <tr>\n",
       "      <th>2</th>\n",
       "      <td>Abbotsford</td>\n",
       "      <td>5 Charles St</td>\n",
       "      <td>3</td>\n",
       "      <td>h</td>\n",
       "      <td>1465000</td>\n",
       "      <td>SP</td>\n",
       "      <td>Biggin</td>\n",
       "      <td>04/03/17</td>\n",
       "      <td>2.5</td>\n",
       "      <td>3067</td>\n",
       "      <td>...</td>\n",
       "      <td>2</td>\n",
       "      <td>0.0</td>\n",
       "      <td>134</td>\n",
       "      <td>150.0</td>\n",
       "      <td>1900.0</td>\n",
       "      <td>Yarra</td>\n",
       "      <td>-37.8093</td>\n",
       "      <td>144.9944</td>\n",
       "      <td>Northern Metropolitan</td>\n",
       "      <td>4019</td>\n",
       "    </tr>\n",
       "    <tr>\n",
       "      <th>3</th>\n",
       "      <td>Abbotsford</td>\n",
       "      <td>40 Federation La</td>\n",
       "      <td>3</td>\n",
       "      <td>h</td>\n",
       "      <td>850000</td>\n",
       "      <td>PI</td>\n",
       "      <td>Biggin</td>\n",
       "      <td>04/03/17</td>\n",
       "      <td>2.5</td>\n",
       "      <td>3067</td>\n",
       "      <td>...</td>\n",
       "      <td>2</td>\n",
       "      <td>1.0</td>\n",
       "      <td>94</td>\n",
       "      <td>NaN</td>\n",
       "      <td>NaN</td>\n",
       "      <td>Yarra</td>\n",
       "      <td>-37.7969</td>\n",
       "      <td>144.9969</td>\n",
       "      <td>Northern Metropolitan</td>\n",
       "      <td>4019</td>\n",
       "    </tr>\n",
       "    <tr>\n",
       "      <th>4</th>\n",
       "      <td>Abbotsford</td>\n",
       "      <td>55a Park St</td>\n",
       "      <td>4</td>\n",
       "      <td>h</td>\n",
       "      <td>1600000</td>\n",
       "      <td>VB</td>\n",
       "      <td>Nelson</td>\n",
       "      <td>04/06/16</td>\n",
       "      <td>2.5</td>\n",
       "      <td>3067</td>\n",
       "      <td>...</td>\n",
       "      <td>1</td>\n",
       "      <td>2.0</td>\n",
       "      <td>120</td>\n",
       "      <td>142.0</td>\n",
       "      <td>2014.0</td>\n",
       "      <td>Yarra</td>\n",
       "      <td>-37.8072</td>\n",
       "      <td>144.9941</td>\n",
       "      <td>Northern Metropolitan</td>\n",
       "      <td>4019</td>\n",
       "    </tr>\n",
       "  </tbody>\n",
       "</table>\n",
       "<p>5 rows × 21 columns</p>\n",
       "</div>"
      ],
      "text/plain": [
       "       Suburb           Address  Rooms Type    Price Method SellerG      Date  \\\n",
       "0  Abbotsford      85 Turner St      2    h  1480000      S  Biggin  03/12/16   \n",
       "1  Abbotsford   25 Bloomburg St      2    h  1035000      S  Biggin  04/02/16   \n",
       "2  Abbotsford      5 Charles St      3    h  1465000     SP  Biggin  04/03/17   \n",
       "3  Abbotsford  40 Federation La      3    h   850000     PI  Biggin  04/03/17   \n",
       "4  Abbotsford       55a Park St      4    h  1600000     VB  Nelson  04/06/16   \n",
       "\n",
       "   Distance  Postcode  ...  Bathroom  Car  Landsize  BuildingArea  YearBuilt  \\\n",
       "0       2.5      3067  ...         1  1.0       202           NaN        NaN   \n",
       "1       2.5      3067  ...         1  0.0       156          79.0     1900.0   \n",
       "2       2.5      3067  ...         2  0.0       134         150.0     1900.0   \n",
       "3       2.5      3067  ...         2  1.0        94           NaN        NaN   \n",
       "4       2.5      3067  ...         1  2.0       120         142.0     2014.0   \n",
       "\n",
       "   CouncilArea Lattitude  Longtitude             Regionname Propertycount  \n",
       "0        Yarra  -37.7996    144.9984  Northern Metropolitan          4019  \n",
       "1        Yarra  -37.8079    144.9934  Northern Metropolitan          4019  \n",
       "2        Yarra  -37.8093    144.9944  Northern Metropolitan          4019  \n",
       "3        Yarra  -37.7969    144.9969  Northern Metropolitan          4019  \n",
       "4        Yarra  -37.8072    144.9941  Northern Metropolitan          4019  \n",
       "\n",
       "[5 rows x 21 columns]"
      ]
     },
     "execution_count": 5,
     "metadata": {},
     "output_type": "execute_result"
    }
   ],
   "source": [
    "df.head()"
   ]
  },
  {
   "cell_type": "markdown",
   "id": "b330f597",
   "metadata": {},
   "source": [
    "- lets check the last 5 rows of df"
   ]
  },
  {
   "cell_type": "code",
   "execution_count": 6,
   "id": "2d65d45f",
   "metadata": {},
   "outputs": [
    {
     "data": {
      "text/html": [
       "<div>\n",
       "<style scoped>\n",
       "    .dataframe tbody tr th:only-of-type {\n",
       "        vertical-align: middle;\n",
       "    }\n",
       "\n",
       "    .dataframe tbody tr th {\n",
       "        vertical-align: top;\n",
       "    }\n",
       "\n",
       "    .dataframe thead th {\n",
       "        text-align: right;\n",
       "    }\n",
       "</style>\n",
       "<table border=\"1\" class=\"dataframe\">\n",
       "  <thead>\n",
       "    <tr style=\"text-align: right;\">\n",
       "      <th></th>\n",
       "      <th>Suburb</th>\n",
       "      <th>Address</th>\n",
       "      <th>Rooms</th>\n",
       "      <th>Type</th>\n",
       "      <th>Price</th>\n",
       "      <th>Method</th>\n",
       "      <th>SellerG</th>\n",
       "      <th>Date</th>\n",
       "      <th>Distance</th>\n",
       "      <th>Postcode</th>\n",
       "      <th>...</th>\n",
       "      <th>Bathroom</th>\n",
       "      <th>Car</th>\n",
       "      <th>Landsize</th>\n",
       "      <th>BuildingArea</th>\n",
       "      <th>YearBuilt</th>\n",
       "      <th>CouncilArea</th>\n",
       "      <th>Lattitude</th>\n",
       "      <th>Longtitude</th>\n",
       "      <th>Regionname</th>\n",
       "      <th>Propertycount</th>\n",
       "    </tr>\n",
       "  </thead>\n",
       "  <tbody>\n",
       "    <tr>\n",
       "      <th>13575</th>\n",
       "      <td>Wheelers Hill</td>\n",
       "      <td>12 Strada Cr</td>\n",
       "      <td>4</td>\n",
       "      <td>h</td>\n",
       "      <td>1245000</td>\n",
       "      <td>S</td>\n",
       "      <td>Barry</td>\n",
       "      <td>26/08/17</td>\n",
       "      <td>16.7</td>\n",
       "      <td>3150</td>\n",
       "      <td>...</td>\n",
       "      <td>2</td>\n",
       "      <td>2.0</td>\n",
       "      <td>652</td>\n",
       "      <td>NaN</td>\n",
       "      <td>1981.0</td>\n",
       "      <td>NaN</td>\n",
       "      <td>-37.90562</td>\n",
       "      <td>145.16761</td>\n",
       "      <td>South-Eastern Metropolitan</td>\n",
       "      <td>7392</td>\n",
       "    </tr>\n",
       "    <tr>\n",
       "      <th>13576</th>\n",
       "      <td>Williamstown</td>\n",
       "      <td>77 Merrett Dr</td>\n",
       "      <td>3</td>\n",
       "      <td>h</td>\n",
       "      <td>1031000</td>\n",
       "      <td>SP</td>\n",
       "      <td>Williams</td>\n",
       "      <td>26/08/17</td>\n",
       "      <td>6.8</td>\n",
       "      <td>3016</td>\n",
       "      <td>...</td>\n",
       "      <td>2</td>\n",
       "      <td>2.0</td>\n",
       "      <td>333</td>\n",
       "      <td>133.0</td>\n",
       "      <td>1995.0</td>\n",
       "      <td>NaN</td>\n",
       "      <td>-37.85927</td>\n",
       "      <td>144.87904</td>\n",
       "      <td>Western Metropolitan</td>\n",
       "      <td>6380</td>\n",
       "    </tr>\n",
       "    <tr>\n",
       "      <th>13577</th>\n",
       "      <td>Williamstown</td>\n",
       "      <td>83 Power St</td>\n",
       "      <td>3</td>\n",
       "      <td>h</td>\n",
       "      <td>1170000</td>\n",
       "      <td>S</td>\n",
       "      <td>Raine</td>\n",
       "      <td>26/08/17</td>\n",
       "      <td>6.8</td>\n",
       "      <td>3016</td>\n",
       "      <td>...</td>\n",
       "      <td>2</td>\n",
       "      <td>4.0</td>\n",
       "      <td>436</td>\n",
       "      <td>NaN</td>\n",
       "      <td>1997.0</td>\n",
       "      <td>NaN</td>\n",
       "      <td>-37.85274</td>\n",
       "      <td>144.88738</td>\n",
       "      <td>Western Metropolitan</td>\n",
       "      <td>6380</td>\n",
       "    </tr>\n",
       "    <tr>\n",
       "      <th>13578</th>\n",
       "      <td>Williamstown</td>\n",
       "      <td>96 Verdon St</td>\n",
       "      <td>4</td>\n",
       "      <td>h</td>\n",
       "      <td>2500000</td>\n",
       "      <td>PI</td>\n",
       "      <td>Sweeney</td>\n",
       "      <td>26/08/17</td>\n",
       "      <td>6.8</td>\n",
       "      <td>3016</td>\n",
       "      <td>...</td>\n",
       "      <td>1</td>\n",
       "      <td>5.0</td>\n",
       "      <td>866</td>\n",
       "      <td>157.0</td>\n",
       "      <td>1920.0</td>\n",
       "      <td>NaN</td>\n",
       "      <td>-37.85908</td>\n",
       "      <td>144.89299</td>\n",
       "      <td>Western Metropolitan</td>\n",
       "      <td>6380</td>\n",
       "    </tr>\n",
       "    <tr>\n",
       "      <th>13579</th>\n",
       "      <td>Yarraville</td>\n",
       "      <td>6 Agnes St</td>\n",
       "      <td>4</td>\n",
       "      <td>h</td>\n",
       "      <td>1285000</td>\n",
       "      <td>SP</td>\n",
       "      <td>Village</td>\n",
       "      <td>26/08/17</td>\n",
       "      <td>6.3</td>\n",
       "      <td>3013</td>\n",
       "      <td>...</td>\n",
       "      <td>1</td>\n",
       "      <td>1.0</td>\n",
       "      <td>362</td>\n",
       "      <td>112.0</td>\n",
       "      <td>1920.0</td>\n",
       "      <td>NaN</td>\n",
       "      <td>-37.81188</td>\n",
       "      <td>144.88449</td>\n",
       "      <td>Western Metropolitan</td>\n",
       "      <td>6543</td>\n",
       "    </tr>\n",
       "  </tbody>\n",
       "</table>\n",
       "<p>5 rows × 21 columns</p>\n",
       "</div>"
      ],
      "text/plain": [
       "              Suburb        Address  Rooms Type    Price Method   SellerG  \\\n",
       "13575  Wheelers Hill   12 Strada Cr      4    h  1245000      S     Barry   \n",
       "13576   Williamstown  77 Merrett Dr      3    h  1031000     SP  Williams   \n",
       "13577   Williamstown    83 Power St      3    h  1170000      S     Raine   \n",
       "13578   Williamstown   96 Verdon St      4    h  2500000     PI   Sweeney   \n",
       "13579     Yarraville     6 Agnes St      4    h  1285000     SP   Village   \n",
       "\n",
       "           Date  Distance  Postcode  ...  Bathroom  Car  Landsize  \\\n",
       "13575  26/08/17      16.7      3150  ...         2  2.0       652   \n",
       "13576  26/08/17       6.8      3016  ...         2  2.0       333   \n",
       "13577  26/08/17       6.8      3016  ...         2  4.0       436   \n",
       "13578  26/08/17       6.8      3016  ...         1  5.0       866   \n",
       "13579  26/08/17       6.3      3013  ...         1  1.0       362   \n",
       "\n",
       "       BuildingArea  YearBuilt  CouncilArea Lattitude  Longtitude  \\\n",
       "13575           NaN     1981.0          NaN -37.90562   145.16761   \n",
       "13576         133.0     1995.0          NaN -37.85927   144.87904   \n",
       "13577           NaN     1997.0          NaN -37.85274   144.88738   \n",
       "13578         157.0     1920.0          NaN -37.85908   144.89299   \n",
       "13579         112.0     1920.0          NaN -37.81188   144.88449   \n",
       "\n",
       "                       Regionname Propertycount  \n",
       "13575  South-Eastern Metropolitan          7392  \n",
       "13576        Western Metropolitan          6380  \n",
       "13577        Western Metropolitan          6380  \n",
       "13578        Western Metropolitan          6380  \n",
       "13579        Western Metropolitan          6543  \n",
       "\n",
       "[5 rows x 21 columns]"
      ]
     },
     "execution_count": 6,
     "metadata": {},
     "output_type": "execute_result"
    }
   ],
   "source": [
    "df.tail()"
   ]
  },
  {
   "cell_type": "markdown",
   "id": "4fad69de",
   "metadata": {},
   "source": [
    "- Let's check the random ten number of data samples, Every time it will print the random five sample of records from original datasets. So we can easly understand the behaviour and what types of data type stored in particular features."
   ]
  },
  {
   "cell_type": "code",
   "execution_count": 7,
   "id": "164098d1",
   "metadata": {},
   "outputs": [
    {
     "data": {
      "text/html": [
       "<div>\n",
       "<style scoped>\n",
       "    .dataframe tbody tr th:only-of-type {\n",
       "        vertical-align: middle;\n",
       "    }\n",
       "\n",
       "    .dataframe tbody tr th {\n",
       "        vertical-align: top;\n",
       "    }\n",
       "\n",
       "    .dataframe thead th {\n",
       "        text-align: right;\n",
       "    }\n",
       "</style>\n",
       "<table border=\"1\" class=\"dataframe\">\n",
       "  <thead>\n",
       "    <tr style=\"text-align: right;\">\n",
       "      <th></th>\n",
       "      <th>Suburb</th>\n",
       "      <th>Address</th>\n",
       "      <th>Rooms</th>\n",
       "      <th>Type</th>\n",
       "      <th>Price</th>\n",
       "      <th>Method</th>\n",
       "      <th>SellerG</th>\n",
       "      <th>Date</th>\n",
       "      <th>Distance</th>\n",
       "      <th>Postcode</th>\n",
       "      <th>...</th>\n",
       "      <th>Bathroom</th>\n",
       "      <th>Car</th>\n",
       "      <th>Landsize</th>\n",
       "      <th>BuildingArea</th>\n",
       "      <th>YearBuilt</th>\n",
       "      <th>CouncilArea</th>\n",
       "      <th>Lattitude</th>\n",
       "      <th>Longtitude</th>\n",
       "      <th>Regionname</th>\n",
       "      <th>Propertycount</th>\n",
       "    </tr>\n",
       "  </thead>\n",
       "  <tbody>\n",
       "    <tr>\n",
       "      <th>3798</th>\n",
       "      <td>Malvern</td>\n",
       "      <td>18 Soudan St</td>\n",
       "      <td>5</td>\n",
       "      <td>h</td>\n",
       "      <td>4240000</td>\n",
       "      <td>S</td>\n",
       "      <td>Marshall</td>\n",
       "      <td>19/11/16</td>\n",
       "      <td>7.4</td>\n",
       "      <td>3144</td>\n",
       "      <td>...</td>\n",
       "      <td>3</td>\n",
       "      <td>3.0</td>\n",
       "      <td>580</td>\n",
       "      <td>320.0</td>\n",
       "      <td>1890.0</td>\n",
       "      <td>Stonnington</td>\n",
       "      <td>-37.86530</td>\n",
       "      <td>145.03040</td>\n",
       "      <td>Southern Metropolitan</td>\n",
       "      <td>4675</td>\n",
       "    </tr>\n",
       "    <tr>\n",
       "      <th>1522</th>\n",
       "      <td>Burwood</td>\n",
       "      <td>2 Bennett St</td>\n",
       "      <td>3</td>\n",
       "      <td>h</td>\n",
       "      <td>1342000</td>\n",
       "      <td>S</td>\n",
       "      <td>McGrath</td>\n",
       "      <td>10/12/16</td>\n",
       "      <td>11.7</td>\n",
       "      <td>3125</td>\n",
       "      <td>...</td>\n",
       "      <td>1</td>\n",
       "      <td>2.0</td>\n",
       "      <td>690</td>\n",
       "      <td>NaN</td>\n",
       "      <td>NaN</td>\n",
       "      <td>Whitehorse</td>\n",
       "      <td>-37.85090</td>\n",
       "      <td>145.11700</td>\n",
       "      <td>Southern Metropolitan</td>\n",
       "      <td>5678</td>\n",
       "    </tr>\n",
       "    <tr>\n",
       "      <th>13046</th>\n",
       "      <td>Reservoir</td>\n",
       "      <td>25 Ramleh Rd</td>\n",
       "      <td>4</td>\n",
       "      <td>h</td>\n",
       "      <td>920000</td>\n",
       "      <td>S</td>\n",
       "      <td>Ray</td>\n",
       "      <td>19/08/17</td>\n",
       "      <td>12.0</td>\n",
       "      <td>3073</td>\n",
       "      <td>...</td>\n",
       "      <td>2</td>\n",
       "      <td>2.0</td>\n",
       "      <td>743</td>\n",
       "      <td>NaN</td>\n",
       "      <td>NaN</td>\n",
       "      <td>NaN</td>\n",
       "      <td>-37.70848</td>\n",
       "      <td>145.03055</td>\n",
       "      <td>Northern Metropolitan</td>\n",
       "      <td>21650</td>\n",
       "    </tr>\n",
       "    <tr>\n",
       "      <th>9950</th>\n",
       "      <td>Maribyrnong</td>\n",
       "      <td>29 Monash St</td>\n",
       "      <td>2</td>\n",
       "      <td>h</td>\n",
       "      <td>920000</td>\n",
       "      <td>VB</td>\n",
       "      <td>Biggin</td>\n",
       "      <td>24/06/17</td>\n",
       "      <td>4.3</td>\n",
       "      <td>3032</td>\n",
       "      <td>...</td>\n",
       "      <td>1</td>\n",
       "      <td>1.0</td>\n",
       "      <td>575</td>\n",
       "      <td>NaN</td>\n",
       "      <td>NaN</td>\n",
       "      <td>Maribyrnong</td>\n",
       "      <td>-37.78446</td>\n",
       "      <td>144.88781</td>\n",
       "      <td>Western Metropolitan</td>\n",
       "      <td>4918</td>\n",
       "    </tr>\n",
       "    <tr>\n",
       "      <th>12538</th>\n",
       "      <td>Keilor East</td>\n",
       "      <td>14 Paul Av</td>\n",
       "      <td>3</td>\n",
       "      <td>h</td>\n",
       "      <td>1076500</td>\n",
       "      <td>S</td>\n",
       "      <td>Nelson</td>\n",
       "      <td>09/09/17</td>\n",
       "      <td>11.7</td>\n",
       "      <td>3033</td>\n",
       "      <td>...</td>\n",
       "      <td>1</td>\n",
       "      <td>1.0</td>\n",
       "      <td>638</td>\n",
       "      <td>NaN</td>\n",
       "      <td>NaN</td>\n",
       "      <td>NaN</td>\n",
       "      <td>-37.73951</td>\n",
       "      <td>144.86798</td>\n",
       "      <td>Western Metropolitan</td>\n",
       "      <td>5629</td>\n",
       "    </tr>\n",
       "    <tr>\n",
       "      <th>11664</th>\n",
       "      <td>Epping</td>\n",
       "      <td>6 Shields St</td>\n",
       "      <td>3</td>\n",
       "      <td>h</td>\n",
       "      <td>545000</td>\n",
       "      <td>S</td>\n",
       "      <td>hockingstuart</td>\n",
       "      <td>22/07/17</td>\n",
       "      <td>19.6</td>\n",
       "      <td>3076</td>\n",
       "      <td>...</td>\n",
       "      <td>1</td>\n",
       "      <td>2.0</td>\n",
       "      <td>400</td>\n",
       "      <td>NaN</td>\n",
       "      <td>NaN</td>\n",
       "      <td>Whittlesea</td>\n",
       "      <td>-37.62894</td>\n",
       "      <td>145.00977</td>\n",
       "      <td>Northern Metropolitan</td>\n",
       "      <td>10926</td>\n",
       "    </tr>\n",
       "    <tr>\n",
       "      <th>2840</th>\n",
       "      <td>Glen Iris</td>\n",
       "      <td>4/15 Rix St</td>\n",
       "      <td>2</td>\n",
       "      <td>u</td>\n",
       "      <td>720000</td>\n",
       "      <td>VB</td>\n",
       "      <td>Jellis</td>\n",
       "      <td>25/02/17</td>\n",
       "      <td>9.2</td>\n",
       "      <td>3146</td>\n",
       "      <td>...</td>\n",
       "      <td>1</td>\n",
       "      <td>2.0</td>\n",
       "      <td>0</td>\n",
       "      <td>74.0</td>\n",
       "      <td>1940.0</td>\n",
       "      <td>Boroondara</td>\n",
       "      <td>-37.84680</td>\n",
       "      <td>145.05150</td>\n",
       "      <td>Southern Metropolitan</td>\n",
       "      <td>10412</td>\n",
       "    </tr>\n",
       "    <tr>\n",
       "      <th>8605</th>\n",
       "      <td>Elwood</td>\n",
       "      <td>23 Byron St</td>\n",
       "      <td>3</td>\n",
       "      <td>h</td>\n",
       "      <td>1520000</td>\n",
       "      <td>S</td>\n",
       "      <td>Chisholm</td>\n",
       "      <td>20/05/17</td>\n",
       "      <td>7.7</td>\n",
       "      <td>3184</td>\n",
       "      <td>...</td>\n",
       "      <td>2</td>\n",
       "      <td>1.0</td>\n",
       "      <td>362</td>\n",
       "      <td>138.0</td>\n",
       "      <td>1900.0</td>\n",
       "      <td>Port Phillip</td>\n",
       "      <td>-37.87720</td>\n",
       "      <td>144.99040</td>\n",
       "      <td>Southern Metropolitan</td>\n",
       "      <td>8989</td>\n",
       "    </tr>\n",
       "    <tr>\n",
       "      <th>2417</th>\n",
       "      <td>Essendon</td>\n",
       "      <td>1/139 Roberts St</td>\n",
       "      <td>2</td>\n",
       "      <td>u</td>\n",
       "      <td>667000</td>\n",
       "      <td>S</td>\n",
       "      <td>Nelson</td>\n",
       "      <td>17/09/16</td>\n",
       "      <td>8.0</td>\n",
       "      <td>3040</td>\n",
       "      <td>...</td>\n",
       "      <td>1</td>\n",
       "      <td>1.0</td>\n",
       "      <td>206</td>\n",
       "      <td>NaN</td>\n",
       "      <td>NaN</td>\n",
       "      <td>Moonee Valley</td>\n",
       "      <td>-37.74260</td>\n",
       "      <td>144.90000</td>\n",
       "      <td>Western Metropolitan</td>\n",
       "      <td>9264</td>\n",
       "    </tr>\n",
       "    <tr>\n",
       "      <th>9284</th>\n",
       "      <td>Preston</td>\n",
       "      <td>145 Murray Rd</td>\n",
       "      <td>3</td>\n",
       "      <td>h</td>\n",
       "      <td>881000</td>\n",
       "      <td>S</td>\n",
       "      <td>Love</td>\n",
       "      <td>03/06/17</td>\n",
       "      <td>8.4</td>\n",
       "      <td>3072</td>\n",
       "      <td>...</td>\n",
       "      <td>1</td>\n",
       "      <td>2.0</td>\n",
       "      <td>470</td>\n",
       "      <td>115.0</td>\n",
       "      <td>1930.0</td>\n",
       "      <td>Darebin</td>\n",
       "      <td>-37.73912</td>\n",
       "      <td>145.01298</td>\n",
       "      <td>Northern Metropolitan</td>\n",
       "      <td>14577</td>\n",
       "    </tr>\n",
       "  </tbody>\n",
       "</table>\n",
       "<p>10 rows × 21 columns</p>\n",
       "</div>"
      ],
      "text/plain": [
       "            Suburb           Address  Rooms Type    Price Method  \\\n",
       "3798       Malvern      18 Soudan St      5    h  4240000      S   \n",
       "1522       Burwood      2 Bennett St      3    h  1342000      S   \n",
       "13046    Reservoir      25 Ramleh Rd      4    h   920000      S   \n",
       "9950   Maribyrnong      29 Monash St      2    h   920000     VB   \n",
       "12538  Keilor East        14 Paul Av      3    h  1076500      S   \n",
       "11664       Epping      6 Shields St      3    h   545000      S   \n",
       "2840     Glen Iris       4/15 Rix St      2    u   720000     VB   \n",
       "8605        Elwood       23 Byron St      3    h  1520000      S   \n",
       "2417      Essendon  1/139 Roberts St      2    u   667000      S   \n",
       "9284       Preston     145 Murray Rd      3    h   881000      S   \n",
       "\n",
       "             SellerG      Date  Distance  Postcode  ...  Bathroom  Car  \\\n",
       "3798        Marshall  19/11/16       7.4      3144  ...         3  3.0   \n",
       "1522         McGrath  10/12/16      11.7      3125  ...         1  2.0   \n",
       "13046            Ray  19/08/17      12.0      3073  ...         2  2.0   \n",
       "9950          Biggin  24/06/17       4.3      3032  ...         1  1.0   \n",
       "12538         Nelson  09/09/17      11.7      3033  ...         1  1.0   \n",
       "11664  hockingstuart  22/07/17      19.6      3076  ...         1  2.0   \n",
       "2840          Jellis  25/02/17       9.2      3146  ...         1  2.0   \n",
       "8605        Chisholm  20/05/17       7.7      3184  ...         2  1.0   \n",
       "2417          Nelson  17/09/16       8.0      3040  ...         1  1.0   \n",
       "9284            Love  03/06/17       8.4      3072  ...         1  2.0   \n",
       "\n",
       "       Landsize  BuildingArea  YearBuilt    CouncilArea Lattitude  Longtitude  \\\n",
       "3798        580         320.0     1890.0    Stonnington -37.86530   145.03040   \n",
       "1522        690           NaN        NaN     Whitehorse -37.85090   145.11700   \n",
       "13046       743           NaN        NaN            NaN -37.70848   145.03055   \n",
       "9950        575           NaN        NaN    Maribyrnong -37.78446   144.88781   \n",
       "12538       638           NaN        NaN            NaN -37.73951   144.86798   \n",
       "11664       400           NaN        NaN     Whittlesea -37.62894   145.00977   \n",
       "2840          0          74.0     1940.0     Boroondara -37.84680   145.05150   \n",
       "8605        362         138.0     1900.0   Port Phillip -37.87720   144.99040   \n",
       "2417        206           NaN        NaN  Moonee Valley -37.74260   144.90000   \n",
       "9284        470         115.0     1930.0        Darebin -37.73912   145.01298   \n",
       "\n",
       "                  Regionname Propertycount  \n",
       "3798   Southern Metropolitan          4675  \n",
       "1522   Southern Metropolitan          5678  \n",
       "13046  Northern Metropolitan         21650  \n",
       "9950    Western Metropolitan          4918  \n",
       "12538   Western Metropolitan          5629  \n",
       "11664  Northern Metropolitan         10926  \n",
       "2840   Southern Metropolitan         10412  \n",
       "8605   Southern Metropolitan          8989  \n",
       "2417    Western Metropolitan          9264  \n",
       "9284   Northern Metropolitan         14577  \n",
       "\n",
       "[10 rows x 21 columns]"
      ]
     },
     "execution_count": 7,
     "metadata": {},
     "output_type": "execute_result"
    }
   ],
   "source": [
    "df.sample(10)"
   ]
  },
  {
   "cell_type": "markdown",
   "id": "e1d7e370",
   "metadata": {},
   "source": [
    "- lets check column wise information of our dataset"
   ]
  },
  {
   "cell_type": "code",
   "execution_count": 8,
   "id": "01564ade",
   "metadata": {
    "scrolled": true
   },
   "outputs": [
    {
     "name": "stdout",
     "output_type": "stream",
     "text": [
      "<class 'pandas.core.frame.DataFrame'>\n",
      "RangeIndex: 13580 entries, 0 to 13579\n",
      "Data columns (total 21 columns):\n",
      " #   Column         Non-Null Count  Dtype  \n",
      "---  ------         --------------  -----  \n",
      " 0   Suburb         13580 non-null  object \n",
      " 1   Address        13580 non-null  object \n",
      " 2   Rooms          13580 non-null  int64  \n",
      " 3   Type           13580 non-null  object \n",
      " 4   Price          13580 non-null  int64  \n",
      " 5   Method         13580 non-null  object \n",
      " 6   SellerG        13580 non-null  object \n",
      " 7   Date           13580 non-null  object \n",
      " 8   Distance       13580 non-null  float64\n",
      " 9   Postcode       13580 non-null  int64  \n",
      " 10  Bedroom2       13580 non-null  int64  \n",
      " 11  Bathroom       13580 non-null  int64  \n",
      " 12  Car            13518 non-null  float64\n",
      " 13  Landsize       13580 non-null  int64  \n",
      " 14  BuildingArea   7130 non-null   float64\n",
      " 15  YearBuilt      8205 non-null   float64\n",
      " 16  CouncilArea    12211 non-null  object \n",
      " 17  Lattitude      13580 non-null  float64\n",
      " 18  Longtitude     13580 non-null  float64\n",
      " 19  Regionname     13580 non-null  object \n",
      " 20  Propertycount  13580 non-null  int64  \n",
      "dtypes: float64(6), int64(7), object(8)\n",
      "memory usage: 2.2+ MB\n"
     ]
    }
   ],
   "source": [
    "df.info()"
   ]
  },
  {
   "cell_type": "markdown",
   "id": "fb50ba40",
   "metadata": {},
   "source": [
    "#### From the above output we can see that :\n",
    "1. There are 13580 unique rows\n",
    "2. 21 column/features in the dataset i.e.[0 to 20]\n",
    "3. Datatypes are of 3 types : object, float, int64\n",
    "4. There 4 column which are having null values in it.\n",
    "    - column with null values [ BuildingArea , YearBuilt , CouncilArea , Car ]\n",
    "5. Memory usage is 2.2+ MB which is negligible and easily handled by machine."
   ]
  },
  {
   "cell_type": "markdown",
   "id": "ff92d538",
   "metadata": {},
   "source": [
    "### Handling Null values\n",
    "- lets check the number of null in each column"
   ]
  },
  {
   "cell_type": "code",
   "execution_count": 9,
   "id": "947810c8",
   "metadata": {
    "scrolled": false
   },
   "outputs": [
    {
     "data": {
      "text/plain": [
       "BuildingArea     6450\n",
       "YearBuilt        5375\n",
       "CouncilArea      1369\n",
       "Car                62\n",
       "Suburb              0\n",
       "Bathroom            0\n",
       "Regionname          0\n",
       "Longtitude          0\n",
       "Lattitude           0\n",
       "Landsize            0\n",
       "Bedroom2            0\n",
       "Address             0\n",
       "Postcode            0\n",
       "Distance            0\n",
       "Date                0\n",
       "SellerG             0\n",
       "Method              0\n",
       "Price               0\n",
       "Type                0\n",
       "Rooms               0\n",
       "Propertycount       0\n",
       "dtype: int64"
      ]
     },
     "execution_count": 9,
     "metadata": {},
     "output_type": "execute_result"
    }
   ],
   "source": [
    "df.isnull().sum().sort_values(ascending = False)"
   ]
  },
  {
   "cell_type": "markdown",
   "id": "b2433643",
   "metadata": {},
   "source": [
    "- Here, We convert the number of missing values into percentages. So, we can easly understand to how many percentage of missing values available."
   ]
  },
  {
   "cell_type": "code",
   "execution_count": 10,
   "id": "a6f126f1",
   "metadata": {},
   "outputs": [
    {
     "data": {
      "text/plain": [
       "BuildingArea    47.496318\n",
       "YearBuilt       39.580265\n",
       "CouncilArea     10.081001\n",
       "Car              0.456554\n",
       "Suburb           0.000000\n",
       "dtype: float64"
      ]
     },
     "execution_count": 10,
     "metadata": {},
     "output_type": "execute_result"
    }
   ],
   "source": [
    "# Gives the % of NULL values from the total NULL values down the column\n",
    "((df.isnull().sum()*100)/df.isnull().count()).sort_values(ascending = False).head(5)"
   ]
  },
  {
   "cell_type": "markdown",
   "id": "50a25622",
   "metadata": {},
   "source": [
    "- Here we can see [ CouncilArea , Car ] are the two columns which have null values percentage below or around 10 % so we can fill those values using statistical methods. Like mean, mode, median\n",
    "\n",
    "- Here we can see [ BuildingArea, YearBuilt ] are the two colums where the NULL value percentage is very high which means close to half of the data is null. So, filling this makes no sense and it will also divert the model AND it will make wrong feeding to the model.\n",
    "- So, we will drop thosee 2 columns with high percentage of NULL values."
   ]
  },
  {
   "cell_type": "code",
   "execution_count": 11,
   "id": "e38c61bc",
   "metadata": {},
   "outputs": [],
   "source": [
    "# dropping  [ BuildingArea, YearBuilt ] columns\n",
    "df.drop(columns = ['BuildingArea','YearBuilt',],inplace = True)"
   ]
  },
  {
   "cell_type": "markdown",
   "id": "32d22bba",
   "metadata": {},
   "source": [
    "**filling car column with the median of the car values**\n",
    "- Here mode = median != mean\n",
    "- mean is prone to outliers so we are filling medain"
   ]
  },
  {
   "cell_type": "code",
   "execution_count": 12,
   "id": "6603aca8",
   "metadata": {},
   "outputs": [],
   "source": [
    "#Filling car null with median\n",
    "df['Car'].fillna(df['Car'].median(),inplace = True)"
   ]
  },
  {
   "cell_type": "code",
   "execution_count": 13,
   "id": "0c1c4720",
   "metadata": {},
   "outputs": [],
   "source": [
    "# Filling CouncilArea's NULL with its mode (most frequent value)\n",
    "df['CouncilArea'].fillna(df['CouncilArea'].mode()[0],inplace = True)"
   ]
  },
  {
   "cell_type": "code",
   "execution_count": 14,
   "id": "3522d930",
   "metadata": {},
   "outputs": [
    {
     "name": "stdout",
     "output_type": "stream",
     "text": [
      "<class 'pandas.core.frame.DataFrame'>\n",
      "RangeIndex: 13580 entries, 0 to 13579\n",
      "Data columns (total 19 columns):\n",
      " #   Column         Non-Null Count  Dtype  \n",
      "---  ------         --------------  -----  \n",
      " 0   Suburb         13580 non-null  object \n",
      " 1   Address        13580 non-null  object \n",
      " 2   Rooms          13580 non-null  int64  \n",
      " 3   Type           13580 non-null  object \n",
      " 4   Price          13580 non-null  int64  \n",
      " 5   Method         13580 non-null  object \n",
      " 6   SellerG        13580 non-null  object \n",
      " 7   Date           13580 non-null  object \n",
      " 8   Distance       13580 non-null  float64\n",
      " 9   Postcode       13580 non-null  int64  \n",
      " 10  Bedroom2       13580 non-null  int64  \n",
      " 11  Bathroom       13580 non-null  int64  \n",
      " 12  Car            13580 non-null  float64\n",
      " 13  Landsize       13580 non-null  int64  \n",
      " 14  CouncilArea    13580 non-null  object \n",
      " 15  Lattitude      13580 non-null  float64\n",
      " 16  Longtitude     13580 non-null  float64\n",
      " 17  Regionname     13580 non-null  object \n",
      " 18  Propertycount  13580 non-null  int64  \n",
      "dtypes: float64(4), int64(7), object(8)\n",
      "memory usage: 2.0+ MB\n"
     ]
    }
   ],
   "source": [
    "df.info()"
   ]
  },
  {
   "cell_type": "markdown",
   "id": "fe9acd96",
   "metadata": {},
   "source": [
    "Null values has been taken care of!!!!"
   ]
  },
  {
   "cell_type": "markdown",
   "id": "268576c0",
   "metadata": {},
   "source": [
    "## Checking the distribution of target data ('Price')"
   ]
  },
  {
   "cell_type": "code",
   "execution_count": 15,
   "id": "27838b29",
   "metadata": {
    "scrolled": false
   },
   "outputs": [
    {
     "data": {
      "text/plain": [
       "<Axes: xlabel='Price', ylabel='Count'>"
      ]
     },
     "execution_count": 15,
     "metadata": {},
     "output_type": "execute_result"
    },
    {
     "data": {
      "image/png": "[encoded data removed]",
      "text/plain": [
       "<Figure size 800x300 with 1 Axes>"
      ]
     },
     "metadata": {},
     "output_type": "display_data"
    }
   ],
   "source": [
    "#plotting a distribution graph of a 'Price'\n",
    "plt.figure(figsize = (8,3))\n",
    "sns.histplot(df['Price'])"
   ]
  },
  {
   "cell_type": "markdown",
   "id": "617f4bad",
   "metadata": {},
   "source": [
    "- here we clearly can see the data is not normally distributed\n",
    "- Bell curve is clearly skewed towards right hand side\n",
    "- **it means there are outliers in upper range i.e (4th quartile)**\n",
    "- We have to take care of this"
   ]
  },
  {
   "cell_type": "markdown",
   "id": "1317d414",
   "metadata": {},
   "source": [
    "## Handling Ouliers\n",
    "- taking our target data price and will handle outliers on the basis of 'Price'\n",
    "- There are sevral methods of Outlier Handling Like:\n",
    "    1. Z-Score method\n",
    "    2. IQR method (Interquartile range)\n",
    "    3. Percentile method"
   ]
  },
  {
   "cell_type": "markdown",
   "id": "4440e220",
   "metadata": {},
   "source": [
    "#### Making suitable plot to identify outliers in price"
   ]
  },
  {
   "cell_type": "code",
   "execution_count": 16,
   "id": "bacf326d",
   "metadata": {},
   "outputs": [
    {
     "data": {
      "image/png": "[encoded data removed]",
      "text/plain": [
       "<Figure size 400x500 with 1 Axes>"
      ]
     },
     "metadata": {},
     "output_type": "display_data"
    }
   ],
   "source": [
    "plt.figure(figsize=(4,5))\n",
    "plt.boxplot(df['Price'])\n",
    "plt.title('Box Plot With Outliers')\n",
    "plt.tight_layout()"
   ]
  },
  {
   "cell_type": "markdown",
   "id": "f35c1d37",
   "metadata": {},
   "source": [
    "- So, after ploting the boxplot for the Price column, we can see that there are some outliers present in the price column and from this we can assume that, there are outliers beyond value ~~~ 2.2"
   ]
  },
  {
   "cell_type": "markdown",
   "id": "7305e56b",
   "metadata": {},
   "source": [
    "### 1. Z-Score Method"
   ]
  },
  {
   "cell_type": "markdown",
   "id": "20dde817",
   "metadata": {},
   "source": [
    "- so to handle the outlier and get the exact value level of lower and upper limit of the price we will use Z-scoe technique (method)\n",
    "- We will take values upto 3 standard deviation from mean on either side to get upper and lower limit\n",
    "    - For lower_limit add 3 std.dev. in the mean\n",
    "    - For lower_limit less 3 std.dev. from mean"
   ]
  },
  {
   "cell_type": "code",
   "execution_count": 17,
   "id": "21158120",
   "metadata": {},
   "outputs": [
    {
     "name": "stdout",
     "output_type": "stream",
     "text": [
      "Price mean = 1075684.08\n",
      "Standard dev = 639310.72 \n",
      "\n",
      "upper limit: 2993616.252343139\n",
      "lower limit: -842248.0934329773\n",
      "\n",
      "total number of outliers = 232\n",
      "Data rows without outlier = 13348\n",
      "\n"
     ]
    }
   ],
   "source": [
    "print('Price mean =',round(df['Price'].mean(),2))\n",
    "print('Standard dev =',round(df['Price'].std(),2),'\\n')\n",
    "\n",
    "upper_limit = df['Price'].mean() + 3 * df['Price'].std()\n",
    "lower_limit = df['Price'].mean() - 3 * df['Price'].std()\n",
    "\n",
    "\n",
    "print(f'upper limit: {upper_limit}')\n",
    "print(f'lower limit: {lower_limit}\\n')\n",
    "\n",
    "#Lets Find outliers based on upper and lower limits \n",
    "print('total number of outliers =', len(df[(df['Price'] > upper_limit) | (df['Price'] < lower_limit)]),)\n",
    "\n",
    "# dropping the assigned ouliers\n",
    "df.drop(index=df[(df['Price'] > upper_limit) | (df['Price'] < lower_limit)].index,inplace = True)\n",
    "\n",
    "print(f'Data rows without outlier = {len(df)}\\n')\n"
   ]
  },
  {
   "cell_type": "markdown",
   "id": "a9eb10de",
   "metadata": {},
   "source": [
    "### 2. Inter Quartile Range Method"
   ]
  },
  {
   "cell_type": "code",
   "execution_count": 18,
   "id": "bb05bbda",
   "metadata": {},
   "outputs": [],
   "source": [
    "# #calculate q1 and q2\n",
    "# q1 = df['Price'].quantile(0.25)\n",
    "# q3 = df['Price'].quantile(0.75)\n",
    "\n",
    "# #calculate iter quartile range\n",
    "# iqr = q3-q1\n",
    "\n",
    "# #calculating upper and lower limit\n",
    "# upper_limit = ul = q3 + (1.5 * iqr)\n",
    "# lower_limit = ll = q1 - (1.5 * iqr)\n",
    "\n",
    "\n",
    "# print(f'Upper Limit : {ul}\\nLower Limit : {ll}')\n",
    "\n",
    "# #creating the index and dropping those rows which are outlier\n",
    "# df.drop(index = df[df['Price']>= ul].index, inplace = True )\n",
    "# df.drop(index = df[df['Price']<= ll].index, inplace = True )\n",
    " \n",
    "# #printing the length of new df\n",
    "# print('Rows count after Dropping Outliers :',len(df))"
   ]
  },
  {
   "cell_type": "markdown",
   "id": "d2d55c84",
   "metadata": {},
   "source": [
    "- **Plotting the boxplot again to see the inprovement ouliers**"
   ]
  },
  {
   "cell_type": "code",
   "execution_count": 19,
   "id": "94efb8c1",
   "metadata": {},
   "outputs": [
    {
     "data": {
      "image/png": "[encoded data removed]",
      "text/plain": [
       "<Figure size 400x500 with 1 Axes>"
      ]
     },
     "metadata": {},
     "output_type": "display_data"
    }
   ],
   "source": [
    "plt.figure(figsize = (4,5))\n",
    "plt.boxplot(df['Price'])\n",
    "plt.title('Box Plot After Removing Outliers')\n",
    "plt.tight_layout()"
   ]
  },
  {
   "cell_type": "markdown",
   "id": "9479ff78",
   "metadata": {},
   "source": [
    "### Distribution after oulier handling\n",
    "- its somewhat normal now so we can proceed"
   ]
  },
  {
   "cell_type": "code",
   "execution_count": 20,
   "id": "23d09da7",
   "metadata": {
    "scrolled": false
   },
   "outputs": [
    {
     "data": {
      "text/plain": [
       "<Axes: xlabel='Price', ylabel='Count'>"
      ]
     },
     "execution_count": 20,
     "metadata": {},
     "output_type": "execute_result"
    },
    {
     "data": {
      "image/png": "[encoded data removed]",
      "text/plain": [
       "<Figure size 800x300 with 1 Axes>"
      ]
     },
     "metadata": {},
     "output_type": "display_data"
    }
   ],
   "source": [
    "plt.figure(figsize=(8,3))\n",
    "sns.histplot(df['Price'])"
   ]
  },
  {
   "cell_type": "markdown",
   "id": "974fbdab",
   "metadata": {},
   "source": [
    "#### Outliers has been taken care of"
   ]
  },
  {
   "cell_type": "markdown",
   "id": "d713393e",
   "metadata": {},
   "source": [
    "### Make categoriacal and numeric features (separate)"
   ]
  },
  {
   "cell_type": "code",
   "execution_count": 21,
   "id": "92c5e3e7",
   "metadata": {
    "scrolled": false
   },
   "outputs": [
    {
     "name": "stdout",
     "output_type": "stream",
     "text": [
      "<class 'pandas.core.frame.DataFrame'>\n",
      "Index: 13348 entries, 0 to 13579\n",
      "Data columns (total 19 columns):\n",
      " #   Column         Non-Null Count  Dtype  \n",
      "---  ------         --------------  -----  \n",
      " 0   Suburb         13348 non-null  object \n",
      " 1   Address        13348 non-null  object \n",
      " 2   Rooms          13348 non-null  int64  \n",
      " 3   Type           13348 non-null  object \n",
      " 4   Price          13348 non-null  int64  \n",
      " 5   Method         13348 non-null  object \n",
      " 6   SellerG        13348 non-null  object \n",
      " 7   Date           13348 non-null  object \n",
      " 8   Distance       13348 non-null  float64\n",
      " 9   Postcode       13348 non-null  int64  \n",
      " 10  Bedroom2       13348 non-null  int64  \n",
      " 11  Bathroom       13348 non-null  int64  \n",
      " 12  Car            13348 non-null  float64\n",
      " 13  Landsize       13348 non-null  int64  \n",
      " 14  CouncilArea    13348 non-null  object \n",
      " 15  Lattitude      13348 non-null  float64\n",
      " 16  Longtitude     13348 non-null  float64\n",
      " 17  Regionname     13348 non-null  object \n",
      " 18  Propertycount  13348 non-null  int64  \n",
      "dtypes: float64(4), int64(7), object(8)\n",
      "memory usage: 2.0+ MB\n"
     ]
    }
   ],
   "source": [
    "df.info()"
   ]
  },
  {
   "cell_type": "code",
   "execution_count": 22,
   "id": "c31078ec",
   "metadata": {},
   "outputs": [],
   "source": [
    "categorical_features = df.select_dtypes('object')\n",
    "numeric_features = df.select_dtypes(include = ('int64','float64'))"
   ]
  },
  {
   "cell_type": "markdown",
   "id": "ad46df19",
   "metadata": {},
   "source": [
    "- Check the unique features in each of the categorical columns"
   ]
  },
  {
   "cell_type": "code",
   "execution_count": 23,
   "id": "1b0ed642",
   "metadata": {
    "scrolled": true
   },
   "outputs": [
    {
     "name": "stdout",
     "output_type": "stream",
     "text": [
      "Unique values in Suburb = 314\n",
      "Unique values in Address = 13151\n",
      "Unique values in Type = 3\n",
      "Unique values in Method = 5\n",
      "Unique values in SellerG = 267\n",
      "Unique values in Date = 58\n",
      "Unique values in CouncilArea = 33\n",
      "Unique values in Regionname = 8\n"
     ]
    }
   ],
   "source": [
    "for col in categorical_features:\n",
    "    print(f'Unique values in {col} = {len(df[col].unique())}')"
   ]
  },
  {
   "cell_type": "markdown",
   "id": "305d1c5a",
   "metadata": {},
   "source": [
    "- Each unique feature will become its own feature in the dataset, resulting in a high-dimensional feature space.\n",
    "- This can make the model more complex and computationally intensive, especially if the address feature has a large number of unique values.\n",
    "-  to higher number of unique values(close to 99%)in 'Address' column it will heavly impact the complexity of the overall model.\n",
    "- so we have to delete such columns. (like Address, Suburb, SellerG)"
   ]
  },
  {
   "cell_type": "code",
   "execution_count": 24,
   "id": "88afe1ae",
   "metadata": {},
   "outputs": [],
   "source": [
    "categorical_features.drop(columns = ['Suburb','Address','SellerG','Date'],inplace = True)"
   ]
  },
  {
   "cell_type": "markdown",
   "id": "056ef2ca",
   "metadata": {},
   "source": [
    "- Checking the columunar uniqueness again:"
   ]
  },
  {
   "cell_type": "code",
   "execution_count": 25,
   "id": "ffe88d3b",
   "metadata": {
    "scrolled": true
   },
   "outputs": [
    {
     "name": "stdout",
     "output_type": "stream",
     "text": [
      "Unique values in Type = 3\n",
      "Unique values in Method = 5\n",
      "Unique values in CouncilArea = 33\n",
      "Unique values in Regionname = 8\n"
     ]
    }
   ],
   "source": [
    "for col in categorical_features:\n",
    "    print(f'Unique values in {col} = {len(df[col].unique())}')\n",
    "    "
   ]
  },
  {
   "cell_type": "markdown",
   "id": "13445e1d",
   "metadata": {},
   "source": [
    "### Feature Modification\n",
    "- **Here, We need to convert categorical values to numerical values**\n",
    "- For that we use pandas inbuilt **.get_dummies** fucntion.\n",
    "- **.get_dummies** do kind of one hot encoding which makes a new column for each unique feature and assign binnary to it\n"
   ]
  },
  {
   "cell_type": "code",
   "execution_count": 26,
   "id": "8c3c3833",
   "metadata": {
    "scrolled": true
   },
   "outputs": [
    {
     "data": {
      "text/html": [
       "<div>\n",
       "<style scoped>\n",
       "    .dataframe tbody tr th:only-of-type {\n",
       "        vertical-align: middle;\n",
       "    }\n",
       "\n",
       "    .dataframe tbody tr th {\n",
       "        vertical-align: top;\n",
       "    }\n",
       "\n",
       "    .dataframe thead th {\n",
       "        text-align: right;\n",
       "    }\n",
       "</style>\n",
       "<table border=\"1\" class=\"dataframe\">\n",
       "  <thead>\n",
       "    <tr style=\"text-align: right;\">\n",
       "      <th></th>\n",
       "      <th>Type</th>\n",
       "      <th>Method</th>\n",
       "      <th>CouncilArea</th>\n",
       "      <th>Regionname</th>\n",
       "    </tr>\n",
       "  </thead>\n",
       "  <tbody>\n",
       "    <tr>\n",
       "      <th>0</th>\n",
       "      <td>h</td>\n",
       "      <td>S</td>\n",
       "      <td>Yarra</td>\n",
       "      <td>Northern Metropolitan</td>\n",
       "    </tr>\n",
       "    <tr>\n",
       "      <th>1</th>\n",
       "      <td>h</td>\n",
       "      <td>S</td>\n",
       "      <td>Yarra</td>\n",
       "      <td>Northern Metropolitan</td>\n",
       "    </tr>\n",
       "    <tr>\n",
       "      <th>2</th>\n",
       "      <td>h</td>\n",
       "      <td>SP</td>\n",
       "      <td>Yarra</td>\n",
       "      <td>Northern Metropolitan</td>\n",
       "    </tr>\n",
       "    <tr>\n",
       "      <th>3</th>\n",
       "      <td>h</td>\n",
       "      <td>PI</td>\n",
       "      <td>Yarra</td>\n",
       "      <td>Northern Metropolitan</td>\n",
       "    </tr>\n",
       "    <tr>\n",
       "      <th>4</th>\n",
       "      <td>h</td>\n",
       "      <td>VB</td>\n",
       "      <td>Yarra</td>\n",
       "      <td>Northern Metropolitan</td>\n",
       "    </tr>\n",
       "    <tr>\n",
       "      <th>...</th>\n",
       "      <td>...</td>\n",
       "      <td>...</td>\n",
       "      <td>...</td>\n",
       "      <td>...</td>\n",
       "    </tr>\n",
       "    <tr>\n",
       "      <th>13575</th>\n",
       "      <td>h</td>\n",
       "      <td>S</td>\n",
       "      <td>Moreland</td>\n",
       "      <td>South-Eastern Metropolitan</td>\n",
       "    </tr>\n",
       "    <tr>\n",
       "      <th>13576</th>\n",
       "      <td>h</td>\n",
       "      <td>SP</td>\n",
       "      <td>Moreland</td>\n",
       "      <td>Western Metropolitan</td>\n",
       "    </tr>\n",
       "    <tr>\n",
       "      <th>13577</th>\n",
       "      <td>h</td>\n",
       "      <td>S</td>\n",
       "      <td>Moreland</td>\n",
       "      <td>Western Metropolitan</td>\n",
       "    </tr>\n",
       "    <tr>\n",
       "      <th>13578</th>\n",
       "      <td>h</td>\n",
       "      <td>PI</td>\n",
       "      <td>Moreland</td>\n",
       "      <td>Western Metropolitan</td>\n",
       "    </tr>\n",
       "    <tr>\n",
       "      <th>13579</th>\n",
       "      <td>h</td>\n",
       "      <td>SP</td>\n",
       "      <td>Moreland</td>\n",
       "      <td>Western Metropolitan</td>\n",
       "    </tr>\n",
       "  </tbody>\n",
       "</table>\n",
       "<p>13348 rows × 4 columns</p>\n",
       "</div>"
      ],
      "text/plain": [
       "      Type Method CouncilArea                  Regionname\n",
       "0        h      S       Yarra       Northern Metropolitan\n",
       "1        h      S       Yarra       Northern Metropolitan\n",
       "2        h     SP       Yarra       Northern Metropolitan\n",
       "3        h     PI       Yarra       Northern Metropolitan\n",
       "4        h     VB       Yarra       Northern Metropolitan\n",
       "...    ...    ...         ...                         ...\n",
       "13575    h      S    Moreland  South-Eastern Metropolitan\n",
       "13576    h     SP    Moreland        Western Metropolitan\n",
       "13577    h      S    Moreland        Western Metropolitan\n",
       "13578    h     PI    Moreland        Western Metropolitan\n",
       "13579    h     SP    Moreland        Western Metropolitan\n",
       "\n",
       "[13348 rows x 4 columns]"
      ]
     },
     "execution_count": 26,
     "metadata": {},
     "output_type": "execute_result"
    }
   ],
   "source": [
    "#take a look at categorical features\n",
    "categorical_features"
   ]
  },
  {
   "cell_type": "markdown",
   "id": "d93e2630",
   "metadata": {},
   "source": [
    "- Encoding the actual data by using get dummies which is pandas default encoder\n",
    "- creating new encoded data columns attaching those new columns to df and dropping original once"
   ]
  },
  {
   "cell_type": "code",
   "execution_count": 27,
   "id": "20716ad9",
   "metadata": {
    "scrolled": true
   },
   "outputs": [],
   "source": [
    "categorical_features = categorical_features.join(pd.get_dummies(categorical_features)).drop(columns = categorical_features)"
   ]
  },
  {
   "cell_type": "code",
   "execution_count": 28,
   "id": "f6c23f56",
   "metadata": {
    "scrolled": false
   },
   "outputs": [
    {
     "data": {
      "text/plain": [
       "(13348, 49)"
      ]
     },
     "execution_count": 28,
     "metadata": {},
     "output_type": "execute_result"
    }
   ],
   "source": [
    "categorical_features.shape"
   ]
  },
  {
   "cell_type": "code",
   "execution_count": 29,
   "id": "de0c9406",
   "metadata": {},
   "outputs": [
    {
     "data": {
      "text/plain": [
       "(13348, 11)"
      ]
     },
     "execution_count": 29,
     "metadata": {},
     "output_type": "execute_result"
    }
   ],
   "source": [
    "numeric_features.shape"
   ]
  },
  {
   "cell_type": "code",
   "execution_count": 30,
   "id": "47b055ec",
   "metadata": {
    "scrolled": true
   },
   "outputs": [
    {
     "data": {
      "text/html": [
       "<div>\n",
       "<style scoped>\n",
       "    .dataframe tbody tr th:only-of-type {\n",
       "        vertical-align: middle;\n",
       "    }\n",
       "\n",
       "    .dataframe tbody tr th {\n",
       "        vertical-align: top;\n",
       "    }\n",
       "\n",
       "    .dataframe thead th {\n",
       "        text-align: right;\n",
       "    }\n",
       "</style>\n",
       "<table border=\"1\" class=\"dataframe\">\n",
       "  <thead>\n",
       "    <tr style=\"text-align: right;\">\n",
       "      <th></th>\n",
       "      <th>Type_h</th>\n",
       "      <th>Type_t</th>\n",
       "      <th>Type_u</th>\n",
       "      <th>Method_PI</th>\n",
       "      <th>Method_S</th>\n",
       "      <th>Method_SA</th>\n",
       "      <th>Method_SP</th>\n",
       "      <th>Method_VB</th>\n",
       "      <th>CouncilArea_Banyule</th>\n",
       "      <th>CouncilArea_Bayside</th>\n",
       "      <th>...</th>\n",
       "      <th>CouncilArea_Yarra</th>\n",
       "      <th>CouncilArea_Yarra Ranges</th>\n",
       "      <th>Regionname_Eastern Metropolitan</th>\n",
       "      <th>Regionname_Eastern Victoria</th>\n",
       "      <th>Regionname_Northern Metropolitan</th>\n",
       "      <th>Regionname_Northern Victoria</th>\n",
       "      <th>Regionname_South-Eastern Metropolitan</th>\n",
       "      <th>Regionname_Southern Metropolitan</th>\n",
       "      <th>Regionname_Western Metropolitan</th>\n",
       "      <th>Regionname_Western Victoria</th>\n",
       "    </tr>\n",
       "  </thead>\n",
       "  <tbody>\n",
       "    <tr>\n",
       "      <th>0</th>\n",
       "      <td>True</td>\n",
       "      <td>False</td>\n",
       "      <td>False</td>\n",
       "      <td>False</td>\n",
       "      <td>True</td>\n",
       "      <td>False</td>\n",
       "      <td>False</td>\n",
       "      <td>False</td>\n",
       "      <td>False</td>\n",
       "      <td>False</td>\n",
       "      <td>...</td>\n",
       "      <td>True</td>\n",
       "      <td>False</td>\n",
       "      <td>False</td>\n",
       "      <td>False</td>\n",
       "      <td>True</td>\n",
       "      <td>False</td>\n",
       "      <td>False</td>\n",
       "      <td>False</td>\n",
       "      <td>False</td>\n",
       "      <td>False</td>\n",
       "    </tr>\n",
       "    <tr>\n",
       "      <th>1</th>\n",
       "      <td>True</td>\n",
       "      <td>False</td>\n",
       "      <td>False</td>\n",
       "      <td>False</td>\n",
       "      <td>True</td>\n",
       "      <td>False</td>\n",
       "      <td>False</td>\n",
       "      <td>False</td>\n",
       "      <td>False</td>\n",
       "      <td>False</td>\n",
       "      <td>...</td>\n",
       "      <td>True</td>\n",
       "      <td>False</td>\n",
       "      <td>False</td>\n",
       "      <td>False</td>\n",
       "      <td>True</td>\n",
       "      <td>False</td>\n",
       "      <td>False</td>\n",
       "      <td>False</td>\n",
       "      <td>False</td>\n",
       "      <td>False</td>\n",
       "    </tr>\n",
       "    <tr>\n",
       "      <th>2</th>\n",
       "      <td>True</td>\n",
       "      <td>False</td>\n",
       "      <td>False</td>\n",
       "      <td>False</td>\n",
       "      <td>False</td>\n",
       "      <td>False</td>\n",
       "      <td>True</td>\n",
       "      <td>False</td>\n",
       "      <td>False</td>\n",
       "      <td>False</td>\n",
       "      <td>...</td>\n",
       "      <td>True</td>\n",
       "      <td>False</td>\n",
       "      <td>False</td>\n",
       "      <td>False</td>\n",
       "      <td>True</td>\n",
       "      <td>False</td>\n",
       "      <td>False</td>\n",
       "      <td>False</td>\n",
       "      <td>False</td>\n",
       "      <td>False</td>\n",
       "    </tr>\n",
       "    <tr>\n",
       "      <th>3</th>\n",
       "      <td>True</td>\n",
       "      <td>False</td>\n",
       "      <td>False</td>\n",
       "      <td>True</td>\n",
       "      <td>False</td>\n",
       "      <td>False</td>\n",
       "      <td>False</td>\n",
       "      <td>False</td>\n",
       "      <td>False</td>\n",
       "      <td>False</td>\n",
       "      <td>...</td>\n",
       "      <td>True</td>\n",
       "      <td>False</td>\n",
       "      <td>False</td>\n",
       "      <td>False</td>\n",
       "      <td>True</td>\n",
       "      <td>False</td>\n",
       "      <td>False</td>\n",
       "      <td>False</td>\n",
       "      <td>False</td>\n",
       "      <td>False</td>\n",
       "    </tr>\n",
       "    <tr>\n",
       "      <th>4</th>\n",
       "      <td>True</td>\n",
       "      <td>False</td>\n",
       "      <td>False</td>\n",
       "      <td>False</td>\n",
       "      <td>False</td>\n",
       "      <td>False</td>\n",
       "      <td>False</td>\n",
       "      <td>True</td>\n",
       "      <td>False</td>\n",
       "      <td>False</td>\n",
       "      <td>...</td>\n",
       "      <td>True</td>\n",
       "      <td>False</td>\n",
       "      <td>False</td>\n",
       "      <td>False</td>\n",
       "      <td>True</td>\n",
       "      <td>False</td>\n",
       "      <td>False</td>\n",
       "      <td>False</td>\n",
       "      <td>False</td>\n",
       "      <td>False</td>\n",
       "    </tr>\n",
       "    <tr>\n",
       "      <th>...</th>\n",
       "      <td>...</td>\n",
       "      <td>...</td>\n",
       "      <td>...</td>\n",
       "      <td>...</td>\n",
       "      <td>...</td>\n",
       "      <td>...</td>\n",
       "      <td>...</td>\n",
       "      <td>...</td>\n",
       "      <td>...</td>\n",
       "      <td>...</td>\n",
       "      <td>...</td>\n",
       "      <td>...</td>\n",
       "      <td>...</td>\n",
       "      <td>...</td>\n",
       "      <td>...</td>\n",
       "      <td>...</td>\n",
       "      <td>...</td>\n",
       "      <td>...</td>\n",
       "      <td>...</td>\n",
       "      <td>...</td>\n",
       "      <td>...</td>\n",
       "    </tr>\n",
       "    <tr>\n",
       "      <th>13575</th>\n",
       "      <td>True</td>\n",
       "      <td>False</td>\n",
       "      <td>False</td>\n",
       "      <td>False</td>\n",
       "      <td>True</td>\n",
       "      <td>False</td>\n",
       "      <td>False</td>\n",
       "      <td>False</td>\n",
       "      <td>False</td>\n",
       "      <td>False</td>\n",
       "      <td>...</td>\n",
       "      <td>False</td>\n",
       "      <td>False</td>\n",
       "      <td>False</td>\n",
       "      <td>False</td>\n",
       "      <td>False</td>\n",
       "      <td>False</td>\n",
       "      <td>True</td>\n",
       "      <td>False</td>\n",
       "      <td>False</td>\n",
       "      <td>False</td>\n",
       "    </tr>\n",
       "    <tr>\n",
       "      <th>13576</th>\n",
       "      <td>True</td>\n",
       "      <td>False</td>\n",
       "      <td>False</td>\n",
       "      <td>False</td>\n",
       "      <td>False</td>\n",
       "      <td>False</td>\n",
       "      <td>True</td>\n",
       "      <td>False</td>\n",
       "      <td>False</td>\n",
       "      <td>False</td>\n",
       "      <td>...</td>\n",
       "      <td>False</td>\n",
       "      <td>False</td>\n",
       "      <td>False</td>\n",
       "      <td>False</td>\n",
       "      <td>False</td>\n",
       "      <td>False</td>\n",
       "      <td>False</td>\n",
       "      <td>False</td>\n",
       "      <td>True</td>\n",
       "      <td>False</td>\n",
       "    </tr>\n",
       "    <tr>\n",
       "      <th>13577</th>\n",
       "      <td>True</td>\n",
       "      <td>False</td>\n",
       "      <td>False</td>\n",
       "      <td>False</td>\n",
       "      <td>True</td>\n",
       "      <td>False</td>\n",
       "      <td>False</td>\n",
       "      <td>False</td>\n",
       "      <td>False</td>\n",
       "      <td>False</td>\n",
       "      <td>...</td>\n",
       "      <td>False</td>\n",
       "      <td>False</td>\n",
       "      <td>False</td>\n",
       "      <td>False</td>\n",
       "      <td>False</td>\n",
       "      <td>False</td>\n",
       "      <td>False</td>\n",
       "      <td>False</td>\n",
       "      <td>True</td>\n",
       "      <td>False</td>\n",
       "    </tr>\n",
       "    <tr>\n",
       "      <th>13578</th>\n",
       "      <td>True</td>\n",
       "      <td>False</td>\n",
       "      <td>False</td>\n",
       "      <td>True</td>\n",
       "      <td>False</td>\n",
       "      <td>False</td>\n",
       "      <td>False</td>\n",
       "      <td>False</td>\n",
       "      <td>False</td>\n",
       "      <td>False</td>\n",
       "      <td>...</td>\n",
       "      <td>False</td>\n",
       "      <td>False</td>\n",
       "      <td>False</td>\n",
       "      <td>False</td>\n",
       "      <td>False</td>\n",
       "      <td>False</td>\n",
       "      <td>False</td>\n",
       "      <td>False</td>\n",
       "      <td>True</td>\n",
       "      <td>False</td>\n",
       "    </tr>\n",
       "    <tr>\n",
       "      <th>13579</th>\n",
       "      <td>True</td>\n",
       "      <td>False</td>\n",
       "      <td>False</td>\n",
       "      <td>False</td>\n",
       "      <td>False</td>\n",
       "      <td>False</td>\n",
       "      <td>True</td>\n",
       "      <td>False</td>\n",
       "      <td>False</td>\n",
       "      <td>False</td>\n",
       "      <td>...</td>\n",
       "      <td>False</td>\n",
       "      <td>False</td>\n",
       "      <td>False</td>\n",
       "      <td>False</td>\n",
       "      <td>False</td>\n",
       "      <td>False</td>\n",
       "      <td>False</td>\n",
       "      <td>False</td>\n",
       "      <td>True</td>\n",
       "      <td>False</td>\n",
       "    </tr>\n",
       "  </tbody>\n",
       "</table>\n",
       "<p>13348 rows × 49 columns</p>\n",
       "</div>"
      ],
      "text/plain": [
       "       Type_h  Type_t  Type_u  Method_PI  Method_S  Method_SA  Method_SP  \\\n",
       "0        True   False   False      False      True      False      False   \n",
       "1        True   False   False      False      True      False      False   \n",
       "2        True   False   False      False     False      False       True   \n",
       "3        True   False   False       True     False      False      False   \n",
       "4        True   False   False      False     False      False      False   \n",
       "...       ...     ...     ...        ...       ...        ...        ...   \n",
       "13575    True   False   False      False      True      False      False   \n",
       "13576    True   False   False      False     False      False       True   \n",
       "13577    True   False   False      False      True      False      False   \n",
       "13578    True   False   False       True     False      False      False   \n",
       "13579    True   False   False      False     False      False       True   \n",
       "\n",
       "       Method_VB  CouncilArea_Banyule  CouncilArea_Bayside  ...  \\\n",
       "0          False                False                False  ...   \n",
       "1          False                False                False  ...   \n",
       "2          False                False                False  ...   \n",
       "3          False                False                False  ...   \n",
       "4           True                False                False  ...   \n",
       "...          ...                  ...                  ...  ...   \n",
       "13575      False                False                False  ...   \n",
       "13576      False                False                False  ...   \n",
       "13577      False                False                False  ...   \n",
       "13578      False                False                False  ...   \n",
       "13579      False                False                False  ...   \n",
       "\n",
       "       CouncilArea_Yarra  CouncilArea_Yarra Ranges  \\\n",
       "0                   True                     False   \n",
       "1                   True                     False   \n",
       "2                   True                     False   \n",
       "3                   True                     False   \n",
       "4                   True                     False   \n",
       "...                  ...                       ...   \n",
       "13575              False                     False   \n",
       "13576              False                     False   \n",
       "13577              False                     False   \n",
       "13578              False                     False   \n",
       "13579              False                     False   \n",
       "\n",
       "       Regionname_Eastern Metropolitan  Regionname_Eastern Victoria  \\\n",
       "0                                False                        False   \n",
       "1                                False                        False   \n",
       "2                                False                        False   \n",
       "3                                False                        False   \n",
       "4                                False                        False   \n",
       "...                                ...                          ...   \n",
       "13575                            False                        False   \n",
       "13576                            False                        False   \n",
       "13577                            False                        False   \n",
       "13578                            False                        False   \n",
       "13579                            False                        False   \n",
       "\n",
       "       Regionname_Northern Metropolitan  Regionname_Northern Victoria  \\\n",
       "0                                  True                         False   \n",
       "1                                  True                         False   \n",
       "2                                  True                         False   \n",
       "3                                  True                         False   \n",
       "4                                  True                         False   \n",
       "...                                 ...                           ...   \n",
       "13575                             False                         False   \n",
       "13576                             False                         False   \n",
       "13577                             False                         False   \n",
       "13578                             False                         False   \n",
       "13579                             False                         False   \n",
       "\n",
       "       Regionname_South-Eastern Metropolitan  \\\n",
       "0                                      False   \n",
       "1                                      False   \n",
       "2                                      False   \n",
       "3                                      False   \n",
       "4                                      False   \n",
       "...                                      ...   \n",
       "13575                                   True   \n",
       "13576                                  False   \n",
       "13577                                  False   \n",
       "13578                                  False   \n",
       "13579                                  False   \n",
       "\n",
       "       Regionname_Southern Metropolitan  Regionname_Western Metropolitan  \\\n",
       "0                                 False                            False   \n",
       "1                                 False                            False   \n",
       "2                                 False                            False   \n",
       "3                                 False                            False   \n",
       "4                                 False                            False   \n",
       "...                                 ...                              ...   \n",
       "13575                             False                            False   \n",
       "13576                             False                             True   \n",
       "13577                             False                             True   \n",
       "13578                             False                             True   \n",
       "13579                             False                             True   \n",
       "\n",
       "       Regionname_Western Victoria  \n",
       "0                            False  \n",
       "1                            False  \n",
       "2                            False  \n",
       "3                            False  \n",
       "4                            False  \n",
       "...                            ...  \n",
       "13575                        False  \n",
       "13576                        False  \n",
       "13577                        False  \n",
       "13578                        False  \n",
       "13579                        False  \n",
       "\n",
       "[13348 rows x 49 columns]"
      ]
     },
     "execution_count": 30,
     "metadata": {},
     "output_type": "execute_result"
    }
   ],
   "source": [
    "categorical_features"
   ]
  },
  {
   "cell_type": "code",
   "execution_count": 31,
   "id": "318d3e69",
   "metadata": {
    "scrolled": true
   },
   "outputs": [
    {
     "data": {
      "text/html": [
       "<div>\n",
       "<style scoped>\n",
       "    .dataframe tbody tr th:only-of-type {\n",
       "        vertical-align: middle;\n",
       "    }\n",
       "\n",
       "    .dataframe tbody tr th {\n",
       "        vertical-align: top;\n",
       "    }\n",
       "\n",
       "    .dataframe thead th {\n",
       "        text-align: right;\n",
       "    }\n",
       "</style>\n",
       "<table border=\"1\" class=\"dataframe\">\n",
       "  <thead>\n",
       "    <tr style=\"text-align: right;\">\n",
       "      <th></th>\n",
       "      <th>Rooms</th>\n",
       "      <th>Price</th>\n",
       "      <th>Distance</th>\n",
       "      <th>Postcode</th>\n",
       "      <th>Bedroom2</th>\n",
       "      <th>Bathroom</th>\n",
       "      <th>Car</th>\n",
       "      <th>Landsize</th>\n",
       "      <th>Lattitude</th>\n",
       "      <th>Longtitude</th>\n",
       "      <th>Propertycount</th>\n",
       "    </tr>\n",
       "  </thead>\n",
       "  <tbody>\n",
       "    <tr>\n",
       "      <th>0</th>\n",
       "      <td>2</td>\n",
       "      <td>1480000</td>\n",
       "      <td>2.5</td>\n",
       "      <td>3067</td>\n",
       "      <td>2</td>\n",
       "      <td>1</td>\n",
       "      <td>1.0</td>\n",
       "      <td>202</td>\n",
       "      <td>-37.79960</td>\n",
       "      <td>144.99840</td>\n",
       "      <td>4019</td>\n",
       "    </tr>\n",
       "    <tr>\n",
       "      <th>1</th>\n",
       "      <td>2</td>\n",
       "      <td>1035000</td>\n",
       "      <td>2.5</td>\n",
       "      <td>3067</td>\n",
       "      <td>2</td>\n",
       "      <td>1</td>\n",
       "      <td>0.0</td>\n",
       "      <td>156</td>\n",
       "      <td>-37.80790</td>\n",
       "      <td>144.99340</td>\n",
       "      <td>4019</td>\n",
       "    </tr>\n",
       "    <tr>\n",
       "      <th>2</th>\n",
       "      <td>3</td>\n",
       "      <td>1465000</td>\n",
       "      <td>2.5</td>\n",
       "      <td>3067</td>\n",
       "      <td>3</td>\n",
       "      <td>2</td>\n",
       "      <td>0.0</td>\n",
       "      <td>134</td>\n",
       "      <td>-37.80930</td>\n",
       "      <td>144.99440</td>\n",
       "      <td>4019</td>\n",
       "    </tr>\n",
       "    <tr>\n",
       "      <th>3</th>\n",
       "      <td>3</td>\n",
       "      <td>850000</td>\n",
       "      <td>2.5</td>\n",
       "      <td>3067</td>\n",
       "      <td>3</td>\n",
       "      <td>2</td>\n",
       "      <td>1.0</td>\n",
       "      <td>94</td>\n",
       "      <td>-37.79690</td>\n",
       "      <td>144.99690</td>\n",
       "      <td>4019</td>\n",
       "    </tr>\n",
       "    <tr>\n",
       "      <th>4</th>\n",
       "      <td>4</td>\n",
       "      <td>1600000</td>\n",
       "      <td>2.5</td>\n",
       "      <td>3067</td>\n",
       "      <td>3</td>\n",
       "      <td>1</td>\n",
       "      <td>2.0</td>\n",
       "      <td>120</td>\n",
       "      <td>-37.80720</td>\n",
       "      <td>144.99410</td>\n",
       "      <td>4019</td>\n",
       "    </tr>\n",
       "    <tr>\n",
       "      <th>...</th>\n",
       "      <td>...</td>\n",
       "      <td>...</td>\n",
       "      <td>...</td>\n",
       "      <td>...</td>\n",
       "      <td>...</td>\n",
       "      <td>...</td>\n",
       "      <td>...</td>\n",
       "      <td>...</td>\n",
       "      <td>...</td>\n",
       "      <td>...</td>\n",
       "      <td>...</td>\n",
       "    </tr>\n",
       "    <tr>\n",
       "      <th>13575</th>\n",
       "      <td>4</td>\n",
       "      <td>1245000</td>\n",
       "      <td>16.7</td>\n",
       "      <td>3150</td>\n",
       "      <td>4</td>\n",
       "      <td>2</td>\n",
       "      <td>2.0</td>\n",
       "      <td>652</td>\n",
       "      <td>-37.90562</td>\n",
       "      <td>145.16761</td>\n",
       "      <td>7392</td>\n",
       "    </tr>\n",
       "    <tr>\n",
       "      <th>13576</th>\n",
       "      <td>3</td>\n",
       "      <td>1031000</td>\n",
       "      <td>6.8</td>\n",
       "      <td>3016</td>\n",
       "      <td>3</td>\n",
       "      <td>2</td>\n",
       "      <td>2.0</td>\n",
       "      <td>333</td>\n",
       "      <td>-37.85927</td>\n",
       "      <td>144.87904</td>\n",
       "      <td>6380</td>\n",
       "    </tr>\n",
       "    <tr>\n",
       "      <th>13577</th>\n",
       "      <td>3</td>\n",
       "      <td>1170000</td>\n",
       "      <td>6.8</td>\n",
       "      <td>3016</td>\n",
       "      <td>3</td>\n",
       "      <td>2</td>\n",
       "      <td>4.0</td>\n",
       "      <td>436</td>\n",
       "      <td>-37.85274</td>\n",
       "      <td>144.88738</td>\n",
       "      <td>6380</td>\n",
       "    </tr>\n",
       "    <tr>\n",
       "      <th>13578</th>\n",
       "      <td>4</td>\n",
       "      <td>2500000</td>\n",
       "      <td>6.8</td>\n",
       "      <td>3016</td>\n",
       "      <td>4</td>\n",
       "      <td>1</td>\n",
       "      <td>5.0</td>\n",
       "      <td>866</td>\n",
       "      <td>-37.85908</td>\n",
       "      <td>144.89299</td>\n",
       "      <td>6380</td>\n",
       "    </tr>\n",
       "    <tr>\n",
       "      <th>13579</th>\n",
       "      <td>4</td>\n",
       "      <td>1285000</td>\n",
       "      <td>6.3</td>\n",
       "      <td>3013</td>\n",
       "      <td>4</td>\n",
       "      <td>1</td>\n",
       "      <td>1.0</td>\n",
       "      <td>362</td>\n",
       "      <td>-37.81188</td>\n",
       "      <td>144.88449</td>\n",
       "      <td>6543</td>\n",
       "    </tr>\n",
       "  </tbody>\n",
       "</table>\n",
       "<p>13348 rows × 11 columns</p>\n",
       "</div>"
      ],
      "text/plain": [
       "       Rooms    Price  Distance  Postcode  Bedroom2  Bathroom  Car  Landsize  \\\n",
       "0          2  1480000       2.5      3067         2         1  1.0       202   \n",
       "1          2  1035000       2.5      3067         2         1  0.0       156   \n",
       "2          3  1465000       2.5      3067         3         2  0.0       134   \n",
       "3          3   850000       2.5      3067         3         2  1.0        94   \n",
       "4          4  1600000       2.5      3067         3         1  2.0       120   \n",
       "...      ...      ...       ...       ...       ...       ...  ...       ...   \n",
       "13575      4  1245000      16.7      3150         4         2  2.0       652   \n",
       "13576      3  1031000       6.8      3016         3         2  2.0       333   \n",
       "13577      3  1170000       6.8      3016         3         2  4.0       436   \n",
       "13578      4  2500000       6.8      3016         4         1  5.0       866   \n",
       "13579      4  1285000       6.3      3013         4         1  1.0       362   \n",
       "\n",
       "       Lattitude  Longtitude  Propertycount  \n",
       "0      -37.79960   144.99840           4019  \n",
       "1      -37.80790   144.99340           4019  \n",
       "2      -37.80930   144.99440           4019  \n",
       "3      -37.79690   144.99690           4019  \n",
       "4      -37.80720   144.99410           4019  \n",
       "...          ...         ...            ...  \n",
       "13575  -37.90562   145.16761           7392  \n",
       "13576  -37.85927   144.87904           6380  \n",
       "13577  -37.85274   144.88738           6380  \n",
       "13578  -37.85908   144.89299           6380  \n",
       "13579  -37.81188   144.88449           6543  \n",
       "\n",
       "[13348 rows x 11 columns]"
      ]
     },
     "execution_count": 31,
     "metadata": {},
     "output_type": "execute_result"
    }
   ],
   "source": [
    "numeric_features"
   ]
  },
  {
   "cell_type": "markdown",
   "id": "efed0b48",
   "metadata": {},
   "source": [
    "#### Joining categorical_featues and numeric_features and storing them in one data (dataframe)"
   ]
  },
  {
   "cell_type": "code",
   "execution_count": 32,
   "id": "d1388377",
   "metadata": {},
   "outputs": [],
   "source": [
    "data = categorical_features.join(numeric_features)"
   ]
  },
  {
   "cell_type": "markdown",
   "id": "37497fa8",
   "metadata": {},
   "source": [
    "### Splitting data into training and target variables"
   ]
  },
  {
   "cell_type": "markdown",
   "id": "0bc23a04",
   "metadata": {},
   "source": [
    "- creating a list which has heading of each of the columns "
   ]
  },
  {
   "cell_type": "code",
   "execution_count": 33,
   "id": "cf196e03",
   "metadata": {},
   "outputs": [],
   "source": [
    "features = list(data)"
   ]
  },
  {
   "cell_type": "code",
   "execution_count": 34,
   "id": "58b5c467",
   "metadata": {},
   "outputs": [],
   "source": [
    "features.remove('Price')"
   ]
  },
  {
   "cell_type": "markdown",
   "id": "a4597b2f",
   "metadata": {},
   "source": [
    "- 'Price' is our target variable so, removing it from the list of features so that list of features can go to x whcih is training features"
   ]
  },
  {
   "cell_type": "code",
   "execution_count": 35,
   "id": "eba55b3a",
   "metadata": {},
   "outputs": [],
   "source": [
    "training_features = x = data[features]"
   ]
  },
  {
   "cell_type": "code",
   "execution_count": 36,
   "id": "634414b6",
   "metadata": {},
   "outputs": [],
   "source": [
    "target_features = y = data['Price']"
   ]
  },
  {
   "cell_type": "markdown",
   "id": "232620f7",
   "metadata": {},
   "source": [
    "### Splitting data into Train Test Split"
   ]
  },
  {
   "cell_type": "code",
   "execution_count": 37,
   "id": "ab25e805",
   "metadata": {},
   "outputs": [],
   "source": [
    "# importing train test split\n",
    "from sklearn.model_selection import train_test_split"
   ]
  },
  {
   "cell_type": "markdown",
   "id": "4939607a",
   "metadata": {},
   "source": [
    "**Splites the main data**\n",
    "\n",
    "- split data into training and validation data, for both features and target. \n",
    "- The split is based on a random number generator.\n",
    "- Supplying a numeric value to the random_state argument guarantees we get the same split even run this script.\n",
    "- split test size will be of test = 25%"
   ]
  },
  {
   "cell_type": "code",
   "execution_count": 38,
   "id": "05a86c77",
   "metadata": {},
   "outputs": [],
   "source": [
    "Xtrain, Xtest, Ytrain, Ytest = train_test_split(x, y, test_size = 0.15,random_state=4)"
   ]
  },
  {
   "cell_type": "code",
   "execution_count": 39,
   "id": "a6e48c04",
   "metadata": {},
   "outputs": [
    {
     "name": "stdout",
     "output_type": "stream",
     "text": [
      "Total size:  (13348, 59)\n",
      "Train size:  (11345, 59) (11345,)\n",
      "Test size:  (2003, 59) (2003,)\n"
     ]
    }
   ],
   "source": [
    "print(\"Total size: \", x.shape)\n",
    "print(\"Train size: \", Xtrain.shape, Ytrain.shape)\n",
    "print(\"Test size: \", Xtest.shape, Ytest.shape)"
   ]
  },
  {
   "cell_type": "markdown",
   "id": "3fe4360d",
   "metadata": {},
   "source": [
    "### Model Building\n",
    "- As per the guidline of the project we will use SVR\n",
    "- Although SVR is a classification based regressor"
   ]
  },
  {
   "cell_type": "code",
   "execution_count": 40,
   "id": "25ea7d92",
   "metadata": {},
   "outputs": [],
   "source": [
    "#importing the SVR\n",
    "from sklearn.svm import SVR"
   ]
  },
  {
   "cell_type": "code",
   "execution_count": 41,
   "id": "7b776d46",
   "metadata": {},
   "outputs": [],
   "source": [
    "# SVR model is storing in model variable\n",
    "model = SVR()"
   ]
  },
  {
   "cell_type": "code",
   "execution_count": 42,
   "id": "e8f3dd05",
   "metadata": {},
   "outputs": [],
   "source": [
    "# it will make sure each columns will have names assigned\n",
    "model.feature_names_in_ = features"
   ]
  },
  {
   "cell_type": "code",
   "execution_count": 43,
   "id": "6d8bd0a3",
   "metadata": {
    "scrolled": false
   },
   "outputs": [
    {
     "data": {
      "text/html": [
       "<style>#sk-container-id-1 {color: black;}#sk-container-id-1 pre{padding: 0;}#sk-container-id-1 div.sk-toggleable {background-color: white;}#sk-container-id-1 label.sk-toggleable__label {cursor: pointer;display: block;width: 100%;margin-bottom: 0;padding: 0.3em;box-sizing: border-box;text-align: center;}#sk-container-id-1 label.sk-toggleable__label-arrow:before {content: \"▸\";float: left;margin-right: 0.25em;color: #696969;}#sk-container-id-1 label.sk-toggleable__label-arrow:hover:before {color: black;}#sk-container-id-1 div.sk-estimator:hover label.sk-toggleable__label-arrow:before {color: black;}#sk-container-id-1 div.sk-toggleable__content {max-height: 0;max-width: 0;overflow: hidden;text-align: left;background-color: #f0f8ff;}#sk-container-id-1 div.sk-toggleable__content pre {margin: 0.2em;color: black;border-radius: 0.25em;background-color: #f0f8ff;}#sk-container-id-1 input.sk-toggleable__control:checked~div.sk-toggleable__content {max-height: 200px;max-width: 100%;overflow: auto;}#sk-container-id-1 input.sk-toggleable__control:checked~label.sk-toggleable__label-arrow:before {content: \"▾\";}#sk-container-id-1 div.sk-estimator input.sk-toggleable__control:checked~label.sk-toggleable__label {background-color: #d4ebff;}#sk-container-id-1 div.sk-label input.sk-toggleable__control:checked~label.sk-toggleable__label {background-color: #d4ebff;}#sk-container-id-1 input.sk-hidden--visually {border: 0;clip: rect(1px 1px 1px 1px);clip: rect(1px, 1px, 1px, 1px);height: 1px;margin: -1px;overflow: hidden;padding: 0;position: absolute;width: 1px;}#sk-container-id-1 div.sk-estimator {font-family: monospace;background-color: #f0f8ff;border: 1px dotted black;border-radius: 0.25em;box-sizing: border-box;margin-bottom: 0.5em;}#sk-container-id-1 div.sk-estimator:hover {background-color: #d4ebff;}#sk-container-id-1 div.sk-parallel-item::after {content: \"\";width: 100%;border-bottom: 1px solid gray;flex-grow: 1;}#sk-container-id-1 div.sk-label:hover label.sk-toggleable__label {background-color: #d4ebff;}#sk-container-id-1 div.sk-serial::before {content: \"\";position: absolute;border-left: 1px solid gray;box-sizing: border-box;top: 0;bottom: 0;left: 50%;z-index: 0;}#sk-container-id-1 div.sk-serial {display: flex;flex-direction: column;align-items: center;background-color: white;padding-right: 0.2em;padding-left: 0.2em;position: relative;}#sk-container-id-1 div.sk-item {position: relative;z-index: 1;}#sk-container-id-1 div.sk-parallel {display: flex;align-items: stretch;justify-content: center;background-color: white;position: relative;}#sk-container-id-1 div.sk-item::before, #sk-container-id-1 div.sk-parallel-item::before {content: \"\";position: absolute;border-left: 1px solid gray;box-sizing: border-box;top: 0;bottom: 0;left: 50%;z-index: -1;}#sk-container-id-1 div.sk-parallel-item {display: flex;flex-direction: column;z-index: 1;position: relative;background-color: white;}#sk-container-id-1 div.sk-parallel-item:first-child::after {align-self: flex-end;width: 50%;}#sk-container-id-1 div.sk-parallel-item:last-child::after {align-self: flex-start;width: 50%;}#sk-container-id-1 div.sk-parallel-item:only-child::after {width: 0;}#sk-container-id-1 div.sk-dashed-wrapped {border: 1px dashed gray;margin: 0 0.4em 0.5em 0.4em;box-sizing: border-box;padding-bottom: 0.4em;background-color: white;}#sk-container-id-1 div.sk-label label {font-family: monospace;font-weight: bold;display: inline-block;line-height: 1.2em;}#sk-container-id-1 div.sk-label-container {text-align: center;}#sk-container-id-1 div.sk-container {/* jupyter's `normalize.less` sets `[hidden] { display: none; }` but bootstrap.min.css set `[hidden] { display: none !important; }` so we also need the `!important` here to be able to override the default hidden behavior on the sphinx rendered scikit-learn.org. See: https://github.com/scikit-learn/scikit-learn/issues/21755 */display: inline-block !important;position: relative;}#sk-container-id-1 div.sk-text-repr-fallback {display: none;}</style><div id=\"sk-container-id-1\" class=\"sk-top-container\"><div class=\"sk-text-repr-fallback\"><pre>SVR()</pre><b>In a Jupyter environment, please rerun this cell to show the HTML representation or trust the notebook. <br />On GitHub, the HTML representation is unable to render, please try loading this page with nbviewer.org.</b></div><div class=\"sk-container\" hidden><div class=\"sk-item\"><div class=\"sk-estimator sk-toggleable\"><input class=\"sk-toggleable__control sk-hidden--visually\" id=\"sk-estimator-id-1\" type=\"checkbox\" checked><label for=\"sk-estimator-id-1\" class=\"sk-toggleable__label sk-toggleable__label-arrow\">SVR</label><div class=\"sk-toggleable__content\"><pre>SVR()</pre></div></div></div></div></div>"
      ],
      "text/plain": [
       "SVR()"
      ]
     },
     "execution_count": 43,
     "metadata": {},
     "output_type": "execute_result"
    }
   ],
   "source": [
    "# Fit/Feed the train data to the model\n",
    "model.fit(Xtrain,Ytrain)"
   ]
  },
  {
   "cell_type": "markdown",
   "id": "e05f3a3a",
   "metadata": {},
   "source": [
    "- To generates predictions for the test data based on the trained model, which are stored in the Ypred variable."
   ]
  },
  {
   "cell_type": "code",
   "execution_count": 44,
   "id": "83852865",
   "metadata": {},
   "outputs": [],
   "source": [
    "Ypred = model.predict(Xtest)"
   ]
  },
  {
   "cell_type": "markdown",
   "id": "2b06dc23",
   "metadata": {},
   "source": [
    "### Accuracy testing\n",
    "- this is a prediction algorithm so confusion matrix can't be used.\n",
    "- so we will be using mean absolute error and R^2 error to evalute our model.\n"
   ]
  },
  {
   "cell_type": "code",
   "execution_count": 45,
   "id": "8d3e246d",
   "metadata": {},
   "outputs": [],
   "source": [
    "# Importing necessory library for testing \n",
    "from sklearn.metrics import mean_absolute_error\n",
    "from sklearn.metrics import r2_score"
   ]
  },
  {
   "cell_type": "code",
   "execution_count": 46,
   "id": "99a0a1f5",
   "metadata": {},
   "outputs": [
    {
     "name": "stdout",
     "output_type": "stream",
     "text": [
      "mean absolute error = 411047.30953821767\n",
      "\n",
      "R^2 Score: -0.08673428124577898\n"
     ]
    }
   ],
   "source": [
    "# mean squared error\n",
    "mae = mean_absolute_error(Ytest,Ypred)\n",
    "print(f'mean absolute error = {mae}\\n')\n",
    "\n",
    "\n",
    "# R^2 score\n",
    "r2 = r2_score(Ytest, Ypred)\n",
    "print(\"R^2 Score:\", r2)"
   ]
  },
  {
   "cell_type": "markdown",
   "id": "936e5f4d",
   "metadata": {},
   "source": [
    "### **SVR is failing in this type of algorithm so we will use another regressor algorithms to predict the house prices** "
   ]
  },
  {
   "cell_type": "markdown",
   "id": "28ec3e99",
   "metadata": {},
   "source": [
    "## 1. Decision Tree Regressor"
   ]
  },
  {
   "cell_type": "code",
   "execution_count": 47,
   "id": "fa01faa9",
   "metadata": {},
   "outputs": [],
   "source": [
    "from sklearn.tree import DecisionTreeRegressor"
   ]
  },
  {
   "cell_type": "code",
   "execution_count": 48,
   "id": "23c418a7",
   "metadata": {},
   "outputs": [],
   "source": [
    "# #to get the best random state for model\n",
    "# best_score = float('inf')  # Initialize with a high value\n",
    "# best_random_state = None\n",
    "\n",
    "\n",
    "# for random_state in range(100):  # Try different random states\n",
    "#     model = DecisionTreeRegressor(random_state=random_state)\n",
    "#     model.fit(Xtrain, Ytrain)\n",
    "#     Ypred = model.predict(Xtest)\n",
    "#     score = mean_absolute_error(Ytest, Ypred)  # Evaluate using mean squared error\n",
    "#     if score < best_score:\n",
    "#         best_score = score\n",
    "#         best_random_state = random_state\n",
    "\n",
    "# print(\"Best Random State:\", best_random_state)\n",
    "# print(\"Best Mean Squared Error:\", best_score)"
   ]
  },
  {
   "cell_type": "code",
   "execution_count": 49,
   "id": "fd302283",
   "metadata": {},
   "outputs": [],
   "source": [
    "dtm = DecisionTreeRegressor()"
   ]
  },
  {
   "cell_type": "code",
   "execution_count": 50,
   "id": "f49bbe95",
   "metadata": {},
   "outputs": [
    {
     "data": {
      "text/html": [
       "<style>#sk-container-id-2 {color: black;}#sk-container-id-2 pre{padding: 0;}#sk-container-id-2 div.sk-toggleable {background-color: white;}#sk-container-id-2 label.sk-toggleable__label {cursor: pointer;display: block;width: 100%;margin-bottom: 0;padding: 0.3em;box-sizing: border-box;text-align: center;}#sk-container-id-2 label.sk-toggleable__label-arrow:before {content: \"▸\";float: left;margin-right: 0.25em;color: #696969;}#sk-container-id-2 label.sk-toggleable__label-arrow:hover:before {color: black;}#sk-container-id-2 div.sk-estimator:hover label.sk-toggleable__label-arrow:before {color: black;}#sk-container-id-2 div.sk-toggleable__content {max-height: 0;max-width: 0;overflow: hidden;text-align: left;background-color: #f0f8ff;}#sk-container-id-2 div.sk-toggleable__content pre {margin: 0.2em;color: black;border-radius: 0.25em;background-color: #f0f8ff;}#sk-container-id-2 input.sk-toggleable__control:checked~div.sk-toggleable__content {max-height: 200px;max-width: 100%;overflow: auto;}#sk-container-id-2 input.sk-toggleable__control:checked~label.sk-toggleable__label-arrow:before {content: \"▾\";}#sk-container-id-2 div.sk-estimator input.sk-toggleable__control:checked~label.sk-toggleable__label {background-color: #d4ebff;}#sk-container-id-2 div.sk-label input.sk-toggleable__control:checked~label.sk-toggleable__label {background-color: #d4ebff;}#sk-container-id-2 input.sk-hidden--visually {border: 0;clip: rect(1px 1px 1px 1px);clip: rect(1px, 1px, 1px, 1px);height: 1px;margin: -1px;overflow: hidden;padding: 0;position: absolute;width: 1px;}#sk-container-id-2 div.sk-estimator {font-family: monospace;background-color: #f0f8ff;border: 1px dotted black;border-radius: 0.25em;box-sizing: border-box;margin-bottom: 0.5em;}#sk-container-id-2 div.sk-estimator:hover {background-color: #d4ebff;}#sk-container-id-2 div.sk-parallel-item::after {content: \"\";width: 100%;border-bottom: 1px solid gray;flex-grow: 1;}#sk-container-id-2 div.sk-label:hover label.sk-toggleable__label {background-color: #d4ebff;}#sk-container-id-2 div.sk-serial::before {content: \"\";position: absolute;border-left: 1px solid gray;box-sizing: border-box;top: 0;bottom: 0;left: 50%;z-index: 0;}#sk-container-id-2 div.sk-serial {display: flex;flex-direction: column;align-items: center;background-color: white;padding-right: 0.2em;padding-left: 0.2em;position: relative;}#sk-container-id-2 div.sk-item {position: relative;z-index: 1;}#sk-container-id-2 div.sk-parallel {display: flex;align-items: stretch;justify-content: center;background-color: white;position: relative;}#sk-container-id-2 div.sk-item::before, #sk-container-id-2 div.sk-parallel-item::before {content: \"\";position: absolute;border-left: 1px solid gray;box-sizing: border-box;top: 0;bottom: 0;left: 50%;z-index: -1;}#sk-container-id-2 div.sk-parallel-item {display: flex;flex-direction: column;z-index: 1;position: relative;background-color: white;}#sk-container-id-2 div.sk-parallel-item:first-child::after {align-self: flex-end;width: 50%;}#sk-container-id-2 div.sk-parallel-item:last-child::after {align-self: flex-start;width: 50%;}#sk-container-id-2 div.sk-parallel-item:only-child::after {width: 0;}#sk-container-id-2 div.sk-dashed-wrapped {border: 1px dashed gray;margin: 0 0.4em 0.5em 0.4em;box-sizing: border-box;padding-bottom: 0.4em;background-color: white;}#sk-container-id-2 div.sk-label label {font-family: monospace;font-weight: bold;display: inline-block;line-height: 1.2em;}#sk-container-id-2 div.sk-label-container {text-align: center;}#sk-container-id-2 div.sk-container {/* jupyter's `normalize.less` sets `[hidden] { display: none; }` but bootstrap.min.css set `[hidden] { display: none !important; }` so we also need the `!important` here to be able to override the default hidden behavior on the sphinx rendered scikit-learn.org. See: https://github.com/scikit-learn/scikit-learn/issues/21755 */display: inline-block !important;position: relative;}#sk-container-id-2 div.sk-text-repr-fallback {display: none;}</style><div id=\"sk-container-id-2\" class=\"sk-top-container\"><div class=\"sk-text-repr-fallback\"><pre>DecisionTreeRegressor()</pre><b>In a Jupyter environment, please rerun this cell to show the HTML representation or trust the notebook. <br />On GitHub, the HTML representation is unable to render, please try loading this page with nbviewer.org.</b></div><div class=\"sk-container\" hidden><div class=\"sk-item\"><div class=\"sk-estimator sk-toggleable\"><input class=\"sk-toggleable__control sk-hidden--visually\" id=\"sk-estimator-id-2\" type=\"checkbox\" checked><label for=\"sk-estimator-id-2\" class=\"sk-toggleable__label sk-toggleable__label-arrow\">DecisionTreeRegressor</label><div class=\"sk-toggleable__content\"><pre>DecisionTreeRegressor()</pre></div></div></div></div></div>"
      ],
      "text/plain": [
       "DecisionTreeRegressor()"
      ]
     },
     "execution_count": 50,
     "metadata": {},
     "output_type": "execute_result"
    }
   ],
   "source": [
    "dtm.fit(Xtrain, Ytrain)"
   ]
  },
  {
   "cell_type": "code",
   "execution_count": 51,
   "id": "1bbce485",
   "metadata": {},
   "outputs": [],
   "source": [
    "dtm_Ypred = dtm.predict(Xtest)"
   ]
  },
  {
   "cell_type": "code",
   "execution_count": 52,
   "id": "c6255232",
   "metadata": {},
   "outputs": [
    {
     "name": "stdout",
     "output_type": "stream",
     "text": [
      "mean absolute error = 205358.96255616576\n",
      "\n",
      "Accuracy = R^2 =  67.83 %\n"
     ]
    }
   ],
   "source": [
    "# mean squared error\n",
    "mae = mean_absolute_error(Ytest,dtm_Ypred)\n",
    "print(f'mean absolute error = {mae}\\n')\n",
    "\n",
    "\n",
    "# R^2 score\n",
    "r2 = r2_score(Ytest, dtm_Ypred)\n",
    "print('Accuracy = R^2 = ',round(r2*100,2),'%')"
   ]
  },
  {
   "cell_type": "markdown",
   "id": "e22f2d70",
   "metadata": {},
   "source": [
    "\n",
    "## 2. Linear Regression Model"
   ]
  },
  {
   "cell_type": "code",
   "execution_count": 53,
   "id": "d36a2d4b",
   "metadata": {},
   "outputs": [],
   "source": [
    " from sklearn.linear_model import LinearRegression"
   ]
  },
  {
   "cell_type": "code",
   "execution_count": 54,
   "id": "e0e675f3",
   "metadata": {},
   "outputs": [],
   "source": [
    "lrm = LinearRegression()"
   ]
  },
  {
   "cell_type": "code",
   "execution_count": 55,
   "id": "a4c61f11",
   "metadata": {
    "scrolled": true
   },
   "outputs": [
    {
     "data": {
      "text/html": [
       "<style>#sk-container-id-3 {color: black;}#sk-container-id-3 pre{padding: 0;}#sk-container-id-3 div.sk-toggleable {background-color: white;}#sk-container-id-3 label.sk-toggleable__label {cursor: pointer;display: block;width: 100%;margin-bottom: 0;padding: 0.3em;box-sizing: border-box;text-align: center;}#sk-container-id-3 label.sk-toggleable__label-arrow:before {content: \"▸\";float: left;margin-right: 0.25em;color: #696969;}#sk-container-id-3 label.sk-toggleable__label-arrow:hover:before {color: black;}#sk-container-id-3 div.sk-estimator:hover label.sk-toggleable__label-arrow:before {color: black;}#sk-container-id-3 div.sk-toggleable__content {max-height: 0;max-width: 0;overflow: hidden;text-align: left;background-color: #f0f8ff;}#sk-container-id-3 div.sk-toggleable__content pre {margin: 0.2em;color: black;border-radius: 0.25em;background-color: #f0f8ff;}#sk-container-id-3 input.sk-toggleable__control:checked~div.sk-toggleable__content {max-height: 200px;max-width: 100%;overflow: auto;}#sk-container-id-3 input.sk-toggleable__control:checked~label.sk-toggleable__label-arrow:before {content: \"▾\";}#sk-container-id-3 div.sk-estimator input.sk-toggleable__control:checked~label.sk-toggleable__label {background-color: #d4ebff;}#sk-container-id-3 div.sk-label input.sk-toggleable__control:checked~label.sk-toggleable__label {background-color: #d4ebff;}#sk-container-id-3 input.sk-hidden--visually {border: 0;clip: rect(1px 1px 1px 1px);clip: rect(1px, 1px, 1px, 1px);height: 1px;margin: -1px;overflow: hidden;padding: 0;position: absolute;width: 1px;}#sk-container-id-3 div.sk-estimator {font-family: monospace;background-color: #f0f8ff;border: 1px dotted black;border-radius: 0.25em;box-sizing: border-box;margin-bottom: 0.5em;}#sk-container-id-3 div.sk-estimator:hover {background-color: #d4ebff;}#sk-container-id-3 div.sk-parallel-item::after {content: \"\";width: 100%;border-bottom: 1px solid gray;flex-grow: 1;}#sk-container-id-3 div.sk-label:hover label.sk-toggleable__label {background-color: #d4ebff;}#sk-container-id-3 div.sk-serial::before {content: \"\";position: absolute;border-left: 1px solid gray;box-sizing: border-box;top: 0;bottom: 0;left: 50%;z-index: 0;}#sk-container-id-3 div.sk-serial {display: flex;flex-direction: column;align-items: center;background-color: white;padding-right: 0.2em;padding-left: 0.2em;position: relative;}#sk-container-id-3 div.sk-item {position: relative;z-index: 1;}#sk-container-id-3 div.sk-parallel {display: flex;align-items: stretch;justify-content: center;background-color: white;position: relative;}#sk-container-id-3 div.sk-item::before, #sk-container-id-3 div.sk-parallel-item::before {content: \"\";position: absolute;border-left: 1px solid gray;box-sizing: border-box;top: 0;bottom: 0;left: 50%;z-index: -1;}#sk-container-id-3 div.sk-parallel-item {display: flex;flex-direction: column;z-index: 1;position: relative;background-color: white;}#sk-container-id-3 div.sk-parallel-item:first-child::after {align-self: flex-end;width: 50%;}#sk-container-id-3 div.sk-parallel-item:last-child::after {align-self: flex-start;width: 50%;}#sk-container-id-3 div.sk-parallel-item:only-child::after {width: 0;}#sk-container-id-3 div.sk-dashed-wrapped {border: 1px dashed gray;margin: 0 0.4em 0.5em 0.4em;box-sizing: border-box;padding-bottom: 0.4em;background-color: white;}#sk-container-id-3 div.sk-label label {font-family: monospace;font-weight: bold;display: inline-block;line-height: 1.2em;}#sk-container-id-3 div.sk-label-container {text-align: center;}#sk-container-id-3 div.sk-container {/* jupyter's `normalize.less` sets `[hidden] { display: none; }` but bootstrap.min.css set `[hidden] { display: none !important; }` so we also need the `!important` here to be able to override the default hidden behavior on the sphinx rendered scikit-learn.org. See: https://github.com/scikit-learn/scikit-learn/issues/21755 */display: inline-block !important;position: relative;}#sk-container-id-3 div.sk-text-repr-fallback {display: none;}</style><div id=\"sk-container-id-3\" class=\"sk-top-container\"><div class=\"sk-text-repr-fallback\"><pre>LinearRegression()</pre><b>In a Jupyter environment, please rerun this cell to show the HTML representation or trust the notebook. <br />On GitHub, the HTML representation is unable to render, please try loading this page with nbviewer.org.</b></div><div class=\"sk-container\" hidden><div class=\"sk-item\"><div class=\"sk-estimator sk-toggleable\"><input class=\"sk-toggleable__control sk-hidden--visually\" id=\"sk-estimator-id-3\" type=\"checkbox\" checked><label for=\"sk-estimator-id-3\" class=\"sk-toggleable__label sk-toggleable__label-arrow\">LinearRegression</label><div class=\"sk-toggleable__content\"><pre>LinearRegression()</pre></div></div></div></div></div>"
      ],
      "text/plain": [
       "LinearRegression()"
      ]
     },
     "execution_count": 55,
     "metadata": {},
     "output_type": "execute_result"
    }
   ],
   "source": [
    "lrm.fit(Xtrain,Ytrain)"
   ]
  },
  {
   "cell_type": "code",
   "execution_count": 56,
   "id": "78d60f84",
   "metadata": {},
   "outputs": [],
   "source": [
    "lrm_Ypred = lrm.predict(Xtest)"
   ]
  },
  {
   "cell_type": "code",
   "execution_count": 57,
   "id": "12479905",
   "metadata": {},
   "outputs": [
    {
     "name": "stdout",
     "output_type": "stream",
     "text": [
      "mean absolute error = 223098.24140755372\n",
      "\n",
      "Accuracy = R^2 =  68.11 %\n"
     ]
    }
   ],
   "source": [
    "# mean squared error\n",
    "mae = mean_absolute_error(Ytest,lrm_Ypred)\n",
    "print(f'mean absolute error = {mae}\\n')\n",
    "\n",
    "\n",
    "# R^2 score\n",
    "r2 = r2_score(Ytest, lrm_Ypred)\n",
    "print('Accuracy = R^2 = ',round(r2*100,2),'%')"
   ]
  },
  {
   "cell_type": "markdown",
   "id": "10c0c9fd",
   "metadata": {},
   "source": [
    "## 3. Rigid Regression"
   ]
  },
  {
   "cell_type": "code",
   "execution_count": 58,
   "id": "5e27347c",
   "metadata": {
    "scrolled": true
   },
   "outputs": [],
   "source": [
    "from sklearn.linear_model import Ridge"
   ]
  },
  {
   "cell_type": "code",
   "execution_count": 59,
   "id": "a36de558",
   "metadata": {},
   "outputs": [],
   "source": [
    "rr = Ridge()"
   ]
  },
  {
   "cell_type": "code",
   "execution_count": 60,
   "id": "f54ed3d2",
   "metadata": {},
   "outputs": [
    {
     "data": {
      "text/html": [
       "<style>#sk-container-id-4 {color: black;}#sk-container-id-4 pre{padding: 0;}#sk-container-id-4 div.sk-toggleable {background-color: white;}#sk-container-id-4 label.sk-toggleable__label {cursor: pointer;display: block;width: 100%;margin-bottom: 0;padding: 0.3em;box-sizing: border-box;text-align: center;}#sk-container-id-4 label.sk-toggleable__label-arrow:before {content: \"▸\";float: left;margin-right: 0.25em;color: #696969;}#sk-container-id-4 label.sk-toggleable__label-arrow:hover:before {color: black;}#sk-container-id-4 div.sk-estimator:hover label.sk-toggleable__label-arrow:before {color: black;}#sk-container-id-4 div.sk-toggleable__content {max-height: 0;max-width: 0;overflow: hidden;text-align: left;background-color: #f0f8ff;}#sk-container-id-4 div.sk-toggleable__content pre {margin: 0.2em;color: black;border-radius: 0.25em;background-color: #f0f8ff;}#sk-container-id-4 input.sk-toggleable__control:checked~div.sk-toggleable__content {max-height: 200px;max-width: 100%;overflow: auto;}#sk-container-id-4 input.sk-toggleable__control:checked~label.sk-toggleable__label-arrow:before {content: \"▾\";}#sk-container-id-4 div.sk-estimator input.sk-toggleable__control:checked~label.sk-toggleable__label {background-color: #d4ebff;}#sk-container-id-4 div.sk-label input.sk-toggleable__control:checked~label.sk-toggleable__label {background-color: #d4ebff;}#sk-container-id-4 input.sk-hidden--visually {border: 0;clip: rect(1px 1px 1px 1px);clip: rect(1px, 1px, 1px, 1px);height: 1px;margin: -1px;overflow: hidden;padding: 0;position: absolute;width: 1px;}#sk-container-id-4 div.sk-estimator {font-family: monospace;background-color: #f0f8ff;border: 1px dotted black;border-radius: 0.25em;box-sizing: border-box;margin-bottom: 0.5em;}#sk-container-id-4 div.sk-estimator:hover {background-color: #d4ebff;}#sk-container-id-4 div.sk-parallel-item::after {content: \"\";width: 100%;border-bottom: 1px solid gray;flex-grow: 1;}#sk-container-id-4 div.sk-label:hover label.sk-toggleable__label {background-color: #d4ebff;}#sk-container-id-4 div.sk-serial::before {content: \"\";position: absolute;border-left: 1px solid gray;box-sizing: border-box;top: 0;bottom: 0;left: 50%;z-index: 0;}#sk-container-id-4 div.sk-serial {display: flex;flex-direction: column;align-items: center;background-color: white;padding-right: 0.2em;padding-left: 0.2em;position: relative;}#sk-container-id-4 div.sk-item {position: relative;z-index: 1;}#sk-container-id-4 div.sk-parallel {display: flex;align-items: stretch;justify-content: center;background-color: white;position: relative;}#sk-container-id-4 div.sk-item::before, #sk-container-id-4 div.sk-parallel-item::before {content: \"\";position: absolute;border-left: 1px solid gray;box-sizing: border-box;top: 0;bottom: 0;left: 50%;z-index: -1;}#sk-container-id-4 div.sk-parallel-item {display: flex;flex-direction: column;z-index: 1;position: relative;background-color: white;}#sk-container-id-4 div.sk-parallel-item:first-child::after {align-self: flex-end;width: 50%;}#sk-container-id-4 div.sk-parallel-item:last-child::after {align-self: flex-start;width: 50%;}#sk-container-id-4 div.sk-parallel-item:only-child::after {width: 0;}#sk-container-id-4 div.sk-dashed-wrapped {border: 1px dashed gray;margin: 0 0.4em 0.5em 0.4em;box-sizing: border-box;padding-bottom: 0.4em;background-color: white;}#sk-container-id-4 div.sk-label label {font-family: monospace;font-weight: bold;display: inline-block;line-height: 1.2em;}#sk-container-id-4 div.sk-label-container {text-align: center;}#sk-container-id-4 div.sk-container {/* jupyter's `normalize.less` sets `[hidden] { display: none; }` but bootstrap.min.css set `[hidden] { display: none !important; }` so we also need the `!important` here to be able to override the default hidden behavior on the sphinx rendered scikit-learn.org. See: https://github.com/scikit-learn/scikit-learn/issues/21755 */display: inline-block !important;position: relative;}#sk-container-id-4 div.sk-text-repr-fallback {display: none;}</style><div id=\"sk-container-id-4\" class=\"sk-top-container\"><div class=\"sk-text-repr-fallback\"><pre>Ridge()</pre><b>In a Jupyter environment, please rerun this cell to show the HTML representation or trust the notebook. <br />On GitHub, the HTML representation is unable to render, please try loading this page with nbviewer.org.</b></div><div class=\"sk-container\" hidden><div class=\"sk-item\"><div class=\"sk-estimator sk-toggleable\"><input class=\"sk-toggleable__control sk-hidden--visually\" id=\"sk-estimator-id-4\" type=\"checkbox\" checked><label for=\"sk-estimator-id-4\" class=\"sk-toggleable__label sk-toggleable__label-arrow\">Ridge</label><div class=\"sk-toggleable__content\"><pre>Ridge()</pre></div></div></div></div></div>"
      ],
      "text/plain": [
       "Ridge()"
      ]
     },
     "execution_count": 60,
     "metadata": {},
     "output_type": "execute_result"
    }
   ],
   "source": [
    "rr.fit(Xtrain, Ytrain)"
   ]
  },
  {
   "cell_type": "code",
   "execution_count": 61,
   "id": "7982d3f5",
   "metadata": {},
   "outputs": [],
   "source": [
    "rr_Ypred = rr.predict(Xtest)"
   ]
  },
  {
   "cell_type": "code",
   "execution_count": 62,
   "id": "15de7d4a",
   "metadata": {},
   "outputs": [
    {
     "name": "stdout",
     "output_type": "stream",
     "text": [
      "mean absolute error = 222983.63655218072\n",
      "\n",
      "Accuracy = R^2 =  68.13 %\n"
     ]
    }
   ],
   "source": [
    "# mean squared error\n",
    "mae = mean_absolute_error(Ytest,rr_Ypred)\n",
    "print(f'mean absolute error = {mae}\\n')\n",
    "\n",
    "\n",
    "# R^2 score\n",
    "r2 = r2_score(Ytest,rr_Ypred)\n",
    "print('Accuracy = R^2 = ',round(r2*100,2),'%')"
   ]
  },
  {
   "cell_type": "markdown",
   "id": "6085f8a0",
   "metadata": {},
   "source": [
    "- **From above observation we can see that all other algoriths are working fine and showing significat accuracy which is close to 70%**\n",
    "- **here we can say SVR is not a best fit for this data prediction**"
   ]
  },
  {
   "cell_type": "markdown",
   "id": "1012a31f",
   "metadata": {},
   "source": [
    "### Hist - Gradient Boosting Regressor\n",
    "- **Hist - Gradient Boosting Regressor will be the best for this problem lets check accuracy by using this.**"
   ]
  },
  {
   "cell_type": "code",
   "execution_count": 63,
   "id": "c5779386",
   "metadata": {},
   "outputs": [],
   "source": [
    "from sklearn.ensemble import HistGradientBoostingRegressor"
   ]
  },
  {
   "cell_type": "code",
   "execution_count": 64,
   "id": "aed49064",
   "metadata": {},
   "outputs": [],
   "source": [
    "hgbr = HistGradientBoostingRegressor()"
   ]
  },
  {
   "cell_type": "code",
   "execution_count": 65,
   "id": "4003d865",
   "metadata": {},
   "outputs": [
    {
     "data": {
      "text/html": [
       "<style>#sk-container-id-5 {color: black;}#sk-container-id-5 pre{padding: 0;}#sk-container-id-5 div.sk-toggleable {background-color: white;}#sk-container-id-5 label.sk-toggleable__label {cursor: pointer;display: block;width: 100%;margin-bottom: 0;padding: 0.3em;box-sizing: border-box;text-align: center;}#sk-container-id-5 label.sk-toggleable__label-arrow:before {content: \"▸\";float: left;margin-right: 0.25em;color: #696969;}#sk-container-id-5 label.sk-toggleable__label-arrow:hover:before {color: black;}#sk-container-id-5 div.sk-estimator:hover label.sk-toggleable__label-arrow:before {color: black;}#sk-container-id-5 div.sk-toggleable__content {max-height: 0;max-width: 0;overflow: hidden;text-align: left;background-color: #f0f8ff;}#sk-container-id-5 div.sk-toggleable__content pre {margin: 0.2em;color: black;border-radius: 0.25em;background-color: #f0f8ff;}#sk-container-id-5 input.sk-toggleable__control:checked~div.sk-toggleable__content {max-height: 200px;max-width: 100%;overflow: auto;}#sk-container-id-5 input.sk-toggleable__control:checked~label.sk-toggleable__label-arrow:before {content: \"▾\";}#sk-container-id-5 div.sk-estimator input.sk-toggleable__control:checked~label.sk-toggleable__label {background-color: #d4ebff;}#sk-container-id-5 div.sk-label input.sk-toggleable__control:checked~label.sk-toggleable__label {background-color: #d4ebff;}#sk-container-id-5 input.sk-hidden--visually {border: 0;clip: rect(1px 1px 1px 1px);clip: rect(1px, 1px, 1px, 1px);height: 1px;margin: -1px;overflow: hidden;padding: 0;position: absolute;width: 1px;}#sk-container-id-5 div.sk-estimator {font-family: monospace;background-color: #f0f8ff;border: 1px dotted black;border-radius: 0.25em;box-sizing: border-box;margin-bottom: 0.5em;}#sk-container-id-5 div.sk-estimator:hover {background-color: #d4ebff;}#sk-container-id-5 div.sk-parallel-item::after {content: \"\";width: 100%;border-bottom: 1px solid gray;flex-grow: 1;}#sk-container-id-5 div.sk-label:hover label.sk-toggleable__label {background-color: #d4ebff;}#sk-container-id-5 div.sk-serial::before {content: \"\";position: absolute;border-left: 1px solid gray;box-sizing: border-box;top: 0;bottom: 0;left: 50%;z-index: 0;}#sk-container-id-5 div.sk-serial {display: flex;flex-direction: column;align-items: center;background-color: white;padding-right: 0.2em;padding-left: 0.2em;position: relative;}#sk-container-id-5 div.sk-item {position: relative;z-index: 1;}#sk-container-id-5 div.sk-parallel {display: flex;align-items: stretch;justify-content: center;background-color: white;position: relative;}#sk-container-id-5 div.sk-item::before, #sk-container-id-5 div.sk-parallel-item::before {content: \"\";position: absolute;border-left: 1px solid gray;box-sizing: border-box;top: 0;bottom: 0;left: 50%;z-index: -1;}#sk-container-id-5 div.sk-parallel-item {display: flex;flex-direction: column;z-index: 1;position: relative;background-color: white;}#sk-container-id-5 div.sk-parallel-item:first-child::after {align-self: flex-end;width: 50%;}#sk-container-id-5 div.sk-parallel-item:last-child::after {align-self: flex-start;width: 50%;}#sk-container-id-5 div.sk-parallel-item:only-child::after {width: 0;}#sk-container-id-5 div.sk-dashed-wrapped {border: 1px dashed gray;margin: 0 0.4em 0.5em 0.4em;box-sizing: border-box;padding-bottom: 0.4em;background-color: white;}#sk-container-id-5 div.sk-label label {font-family: monospace;font-weight: bold;display: inline-block;line-height: 1.2em;}#sk-container-id-5 div.sk-label-container {text-align: center;}#sk-container-id-5 div.sk-container {/* jupyter's `normalize.less` sets `[hidden] { display: none; }` but bootstrap.min.css set `[hidden] { display: none !important; }` so we also need the `!important` here to be able to override the default hidden behavior on the sphinx rendered scikit-learn.org. See: https://github.com/scikit-learn/scikit-learn/issues/21755 */display: inline-block !important;position: relative;}#sk-container-id-5 div.sk-text-repr-fallback {display: none;}</style><div id=\"sk-container-id-5\" class=\"sk-top-container\"><div class=\"sk-text-repr-fallback\"><pre>HistGradientBoostingRegressor()</pre><b>In a Jupyter environment, please rerun this cell to show the HTML representation or trust the notebook. <br />On GitHub, the HTML representation is unable to render, please try loading this page with nbviewer.org.</b></div><div class=\"sk-container\" hidden><div class=\"sk-item\"><div class=\"sk-estimator sk-toggleable\"><input class=\"sk-toggleable__control sk-hidden--visually\" id=\"sk-estimator-id-5\" type=\"checkbox\" checked><label for=\"sk-estimator-id-5\" class=\"sk-toggleable__label sk-toggleable__label-arrow\">HistGradientBoostingRegressor</label><div class=\"sk-toggleable__content\"><pre>HistGradientBoostingRegressor()</pre></div></div></div></div></div>"
      ],
      "text/plain": [
       "HistGradientBoostingRegressor()"
      ]
     },
     "execution_count": 65,
     "metadata": {},
     "output_type": "execute_result"
    }
   ],
   "source": [
    "hgbr.fit(Xtrain,Ytrain)"
   ]
  },
  {
   "cell_type": "code",
   "execution_count": 66,
   "id": "b4ac9f5a",
   "metadata": {
    "scrolled": true
   },
   "outputs": [],
   "source": [
    "hgbr_Ypred = hgbr.predict(Xtest)"
   ]
  },
  {
   "cell_type": "code",
   "execution_count": 67,
   "id": "f18e7de2",
   "metadata": {},
   "outputs": [
    {
     "name": "stdout",
     "output_type": "stream",
     "text": [
      "mean absolute error = 147162.54183081223\n",
      "\n",
      "Accuracy = R^2 =  84.06 %\n"
     ]
    }
   ],
   "source": [
    "# mean squared error\n",
    "mae = mean_absolute_error(Ytest,hgbr_Ypred)\n",
    "print(f'mean absolute error = {mae}\\n')\n",
    "\n",
    "\n",
    "# R^2 score\n",
    "r2 = r2_score(Ytest,hgbr_Ypred)\n",
    "print('Accuracy = R^2 = ',round(r2*100,2),'%')"
   ]
  },
  {
   "cell_type": "markdown",
   "id": "393a873c",
   "metadata": {},
   "source": [
    "# Thanks"
   ]
  }
 ],
 "metadata": {
  "kernelspec": {
   "display_name": "Python 3 (ipykernel)",
   "language": "python",
   "name": "python3"
  },
  "language_info": {
   "codemirror_mode": {
    "name": "ipython",
    "version": 3
   },
   "file_extension": ".py",
   "mimetype": "text/x-python",
   "name": "python",
   "nbconvert_exporter": "python",
   "pygments_lexer": "ipython3",
   "version": "3.11.5"
  },
  "varInspector": {
   "cols": {
    "lenName": 16,
    "lenType": 16,
    "lenVar": 40
   },
   "kernels_config": {
    "python": {
     "delete_cmd_postfix": "",
     "delete_cmd_prefix": "del ",
     "library": "var_list.py",
     "varRefreshCmd": "print(var_dic_list())"
    },
    "r": {
     "delete_cmd_postfix": ") ",
     "delete_cmd_prefix": "rm(",
     "library": "var_list.r",
     "varRefreshCmd": "cat(var_dic_list()) "
    }
   },
   "types_to_exclude": [
    "module",
    "function",
    "builtin_function_or_method",
    "instance",
    "_Feature"
   ],
   "window_display": false
  }
 },
 "nbformat": 4,
 "nbformat_minor": 5
}
